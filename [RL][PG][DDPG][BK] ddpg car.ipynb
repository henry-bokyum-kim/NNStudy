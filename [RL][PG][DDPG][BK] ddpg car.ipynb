{
  "nbformat": 4,
  "nbformat_minor": 0,
  "metadata": {
    "kernelspec": {
      "name": "python3",
      "display_name": "Python 3"
    },
    "language_info": {
      "codemirror_mode": {
        "name": "ipython",
        "version": 3
      },
      "file_extension": ".py",
      "mimetype": "text/x-python",
      "name": "python",
      "nbconvert_exporter": "python",
      "pygments_lexer": "ipython3",
      "version": "3.6.5"
    },
    "colab": {
      "name": "[RL][PG][DDPG][BK] ddpg test.ipynb",
      "provenance": []
    },
    "accelerator": "GPU"
  },
  "cells": [
    {
      "cell_type": "code",
      "metadata": {
        "id": "a4onRDGH8G7M",
        "colab_type": "code",
        "outputId": "f00fc122-3559-4fda-80cf-c86372ca4bd3",
        "colab": {
          "base_uri": "https://localhost:8080/",
          "height": 193
        }
      },
      "source": [
        "!pip install gym pyvirtualdisplay > /dev/null 2>&1\n",
        "!apt-get install -y xvfb python-opengl ffmpeg > /dev/null 2>&1\n",
        "!apt-get install x11-utils\n",
        "\n",
        "from pyvirtualdisplay import Display\n",
        "from IPython import display as ipythondisplay\n",
        "\n",
        "display = Display(visible=0, size=(1400,900),)\n",
        "display.start()"
      ],
      "execution_count": 1,
      "outputs": [
        {
          "output_type": "stream",
          "text": [
            "\rReading package lists... 0%\r\rReading package lists... 0%\r\rReading package lists... 0%\r\rReading package lists... 7%\r\rReading package lists... 7%\r\rReading package lists... 7%\r\rReading package lists... 7%\r\rReading package lists... 65%\r\rReading package lists... 65%\r\rReading package lists... 65%\r\rReading package lists... 65%\r\rReading package lists... 72%\r\rReading package lists... 72%\r\rReading package lists... 73%\r\rReading package lists... 73%\r\rReading package lists... 82%\r\rReading package lists... 82%\r\rReading package lists... 82%\r\rReading package lists... 82%\r\rReading package lists... 82%\r\rReading package lists... 82%\r\rReading package lists... 82%\r\rReading package lists... 82%\r\rReading package lists... 87%\r\rReading package lists... 87%\r\rReading package lists... 87%\r\rReading package lists... 87%\r\rReading package lists... 93%\r\rReading package lists... 93%\r\rReading package lists... 93%\r\rReading package lists... 93%\r\rReading package lists... 93%\r\rReading package lists... 93%\r\rReading package lists... 93%\r\rReading package lists... 94%\r\rReading package lists... 94%\r\rReading package lists... 95%\r\rReading package lists... 95%\r\rReading package lists... 98%\r\rReading package lists... 98%\r\rReading package lists... 98%\r\rReading package lists... 98%\r\rReading package lists... Done\r\n",
            "\rBuilding dependency tree... 0%\r\rBuilding dependency tree... 0%\r\rBuilding dependency tree... 50%\r\rBuilding dependency tree... 50%\r\rBuilding dependency tree       \r\n",
            "\rReading state information... 0%\r\rReading state information... 0%\r\rReading state information... Done\r\n",
            "x11-utils is already the newest version (7.7+3build1).\n",
            "The following package was automatically installed and is no longer required:\n",
            "  libnvidia-common-430\n",
            "Use 'apt autoremove' to remove it.\n",
            "0 upgraded, 0 newly installed, 0 to remove and 25 not upgraded.\n"
          ],
          "name": "stdout"
        },
        {
          "output_type": "execute_result",
          "data": {
            "text/plain": [
              "<Display cmd_param=['Xvfb', '-br', '-nolisten', 'tcp', '-screen', '0', '1400x900x24', ':1001'] cmd=['Xvfb', '-br', '-nolisten', 'tcp', '-screen', '0', '1400x900x24', ':1001'] oserror=None return_code=None stdout=\"None\" stderr=\"None\" timeout_happened=False>"
            ]
          },
          "metadata": {
            "tags": []
          },
          "execution_count": 1
        }
      ]
    },
    {
      "cell_type": "code",
      "metadata": {
        "id": "9ZVzTmHYqb2u",
        "colab_type": "code",
        "colab": {}
      },
      "source": [
        "import torch\n",
        "import torch.nn as nn\n",
        "import torch.nn.functional as F\n",
        "import torch.optim as optim\n",
        "\n",
        "import gym\n",
        "\n",
        "import numpy as np\n",
        "\n",
        "import random\n",
        "import math\n",
        "\n",
        "import collections\n",
        "from collections import namedtuple"
      ],
      "execution_count": 0,
      "outputs": []
    },
    {
      "cell_type": "code",
      "metadata": {
        "id": "D7RZRCDZqb21",
        "colab_type": "code",
        "colab": {}
      },
      "source": [
        "step = namedtuple(\"step\", (\"state\", \"action\", \"next_state\", \"reward\", \"done\"))\n",
        "\n",
        "class Replay:\n",
        "    def __init__(self, size):\n",
        "        self.memory = collections.deque(maxlen = size)\n",
        "        \n",
        "    def push(self, data):\n",
        "        self.memory.append(data)\n",
        "        \n",
        "    def prepare(self, env):\n",
        "        pass\n",
        "        \n",
        "    def sample(self, size):\n",
        "        if len(self.memory) >= size:\n",
        "            return random.sample(self.memory, size)"
      ],
      "execution_count": 0,
      "outputs": []
    },
    {
      "cell_type": "code",
      "metadata": {
        "id": "yCjZ3l-xbxdl",
        "colab_type": "code",
        "colab": {}
      },
      "source": [
        "import numpy as np\n",
        "import math\n",
        "\n",
        "class NoiseMaker():\n",
        "    def __init__(self, noise_type, size, param = None):\n",
        "        self.noise_type = noise_type\n",
        "        self.saved_states = np.zeros((size,), dtype=np.float32)\n",
        "        self.size = size\n",
        "        self.count = 0\n",
        "        self.param = param\n",
        "        \n",
        "        if self.param is None:\n",
        "            self.param = {\n",
        "                \"start\": 0.9,\n",
        "                \"end\": 0.05,\n",
        "                \"decay\": 20000\n",
        "            }\n",
        "        if noise_type == \"ou\" and param is None:\n",
        "            self.param[\"ou_mu\"] = 0.0,\n",
        "            self.param[\"ou_th\"] = 0.15,\n",
        "            self.param[\"ou_sig\"] = 0.2\n",
        "        \n",
        "    def get_max_action(self, action_v:np.ndarray):\n",
        "        max_indice = (action_v==action_v.max()).nonzero()[0]\n",
        "        return np.random.choice(max_indice)\n",
        "    \n",
        "    def get_noise(self, noise_type = None):\n",
        "        noise_type = noise_type if noise_type is not None else self.noise_type\n",
        "        \n",
        "        eps = self.param[\"end\"] + (self.param[\"start\"] - self.param[\"end\"]) \\\n",
        "            * math.exp(-1 * self.count / self.param[\"decay\"])\n",
        "        \n",
        "        if noise_type == \"ou\":\n",
        "            self.saved_states += self.param[\"ou_th\"] * (self.param[\"ou_mu\"] - self.saved_states) \\\n",
        "                                + self.param[\"ou_sig\"] * np.random.normal(size = self.size)\n",
        "            noise_v = self.saved_states\n",
        "        elif noise_type == \"simple\":\n",
        "            noise_v = np.random.normal(size=self.size)\n",
        "        \n",
        "        self.count += 1\n",
        "        return noise_v * eps"
      ],
      "execution_count": 0,
      "outputs": []
    },
    {
      "cell_type": "code",
      "metadata": {
        "id": "OVLYDAYyqb26",
        "colab_type": "code",
        "colab": {}
      },
      "source": [
        "class Actor(nn.Module):\n",
        "    def __init__(self, state_n, action_n, hidden = 512):\n",
        "        super(Actor, self).__init__()\n",
        "        self.net = nn.Sequential(\n",
        "            nn.Linear(state_n, hidden),\n",
        "            nn.ReLU(),\n",
        "            nn.Linear(hidden, int(hidden/2)),\n",
        "            nn.ReLU(),\n",
        "            nn.Linear(int(hidden/2), action_n),\n",
        "            nn.Tanh()\n",
        "        )\n",
        "        \n",
        "    def forward(self,x):\n",
        "        return self.net(x)\n",
        "    \n",
        "class Critic(nn.Module):\n",
        "    def __init__(self, state_n, action_n, hidden =512):\n",
        "        super(Critic, self).__init__()\n",
        "        self.net = nn.Sequential(\n",
        "            nn.Linear(state_n, hidden),\n",
        "            nn.ReLU(),\n",
        "        )\n",
        "        self.out = nn.Sequential(\n",
        "            nn.Linear(hidden+action_n, int(hidden/2)),\n",
        "            nn.ReLU(),\n",
        "            nn.Linear(int(hidden/2), 1)\n",
        "        )\n",
        "        \n",
        "    def forward(self, state, act):\n",
        "        temp = self.net(state)\n",
        "        return self.out(torch.cat([temp, act], dim=1))"
      ],
      "execution_count": 0,
      "outputs": []
    },
    {
      "cell_type": "code",
      "metadata": {
        "id": "UUPEsRTVqb2-",
        "colab_type": "code",
        "outputId": "80587300-0093-4425-8ce7-3426cbf493f2",
        "colab": {
          "base_uri": "https://localhost:8080/",
          "height": 52
        }
      },
      "source": [
        "EPOCH = 5000\n",
        "GAME_NAME = \"MountainCar-v0\"\n",
        "\n",
        "env = gym.make(GAME_NAME)\n",
        "obs_n = env.observation_space.shape[0]\n",
        "act_n = env.action_space.n\n",
        "\n",
        "LR_ACT = 0.00008\n",
        "LR_CRT = 0.0004\n",
        "TAU = 0.0002\n",
        "GAMMA = 0.99\n",
        "\n",
        "actor = Actor(obs_n, act_n).cuda()\n",
        "actor_optim = optim.Adam(actor.parameters(), lr = LR_ACT)\n",
        "actor_tgt = Actor(obs_n, act_n).cuda()\n",
        "actor_tgt.load_state_dict(actor.state_dict())\n",
        "\n",
        "critic = Critic(obs_n, act_n).cuda()\n",
        "critic_optim = optim.Adam(critic.parameters(), lr = LR_CRT)\n",
        "critic_tgt = Critic(obs_n, act_n).cuda()\n",
        "critic_tgt.load_state_dict(critic.state_dict())\n",
        "\n",
        "MAX_MEMORY = 100000\n",
        "MEM_INIT = 2000\n",
        "BATCH = 512\n",
        "storage = Replay(MAX_MEMORY)\n",
        "noise = NoiseMaker(\"ou\", act_n)\n",
        "\n",
        "VIDEO = 100"
      ],
      "execution_count": 6,
      "outputs": [
        {
          "output_type": "stream",
          "text": [
            "/usr/local/lib/python3.6/dist-packages/gym/logger.py:30: UserWarning: \u001b[33mWARN: Box bound precision lowered by casting to float32\u001b[0m\n",
            "  warnings.warn(colorize('%s: %s'%('WARN', msg % args), 'yellow'))\n"
          ],
          "name": "stderr"
        }
      ]
    },
    {
      "cell_type": "code",
      "metadata": {
        "scrolled": true,
        "id": "PPzMymx1qb3B",
        "colab_type": "code",
        "outputId": "8a868a14-0071-4525-e6e6-edded3129880",
        "colab": {
          "base_uri": "https://localhost:8080/",
          "height": 208
        }
      },
      "source": [
        "frame = []\n",
        "\n",
        "for epoch in range(EPOCH):\n",
        "    obs = env.reset()\n",
        "    if epoch%VIDEO == 0:\n",
        "        frame.append(env.render(\"rgb_array\"))\n",
        "    \n",
        "    count = 0\n",
        "    act_dis = [0,0,0]\n",
        "    while True:\n",
        "        with torch.no_grad():\n",
        "            act_v = actor(torch.FloatTensor(obs).cuda()).cpu().numpy()\n",
        "            act_v += noise.get_noise(\"ou\")\n",
        "            act = act_v.argmax().item()\n",
        "            act_dis[act] += 1\n",
        "            \n",
        "        next_obs, rew, done, _ = env.step(act)\n",
        "        if epoch%VIDEO == 0:\n",
        "            frame.append(env.render(\"rgb_array\"))\n",
        "        rew = next_obs[0]\n",
        "        count += 1\n",
        "        \n",
        "        storage.push(step(obs, act_v, next_obs, rew, done))\n",
        "        obs = next_obs\n",
        "        \n",
        "        sample = storage.sample(BATCH)\n",
        "        if sample:\n",
        "            sample = step(*zip(*sample))\n",
        "            \n",
        "            states = torch.FloatTensor(sample.state).cuda()\n",
        "            actions = torch.FloatTensor(sample.action).cuda()\n",
        "            next_states = torch.FloatTensor(sample.next_state).cuda()\n",
        "            rewards = torch.FloatTensor(sample.reward).unsqueeze(-1).cuda()\n",
        "            dones = torch.BoolTensor(sample.done).unsqueeze(-1).cuda()\n",
        "            \n",
        "            # critic learning\n",
        "            critic_optim.zero_grad()\n",
        "            q_pred = critic(states, actions)\n",
        "            \n",
        "            next_action_v = actor_tgt(next_states)\n",
        "            q_next = critic_tgt(next_states, next_action_v)\n",
        "            q_next[dones] = 0\n",
        "            q_target = rewards + GAMMA * q_next\n",
        "            \n",
        "            critic_loss = F.mse_loss(q_pred, q_target.detach())\n",
        "            critic_loss.backward()\n",
        "            critic_optim.step()\n",
        "            \n",
        "            # actor learning\n",
        "            actor_optim.zero_grad()\n",
        "            actor_loss = -critic(states, actor(states))\n",
        "            actor_loss = actor_loss.mean()\n",
        "            actor_loss.backward()\n",
        "            actor_optim.step()\n",
        "            \n",
        "            # tgt soft update\n",
        "            for tgt, real  in zip(actor_tgt.parameters(), actor.parameters()):\n",
        "                tgt.data.copy_(TAU*real.data + (1-TAU)*tgt.data)\n",
        "                \n",
        "            for tgt, real  in zip(critic_tgt.parameters(),critic.parameters()):\n",
        "                tgt.data.copy_(TAU*real.data + (1-TAU)*tgt.data)\n",
        "            \n",
        "        if done:\n",
        "            break\n",
        "    print(\"epoch %d count %d\"%(epoch, count), act_dis)\n",
        "    \n",
        "env.close()"
      ],
      "execution_count": 0,
      "outputs": [
        {
          "output_type": "stream",
          "text": [
            "epoch 2019 count 200 [2, 0, 198]\n",
            "epoch 2020 count 200 [6, 6, 188]\n",
            "epoch 2021 count 200 [2, 0, 198]\n",
            "epoch 2022 count 200 [4, 6, 190]\n",
            "epoch 2023 count 200 [0, 0, 200]\n",
            "epoch 2024 count 200 [0, 2, 198]\n",
            "epoch 2025 count 200 [2, 4, 194]\n",
            "epoch 2026 count 200 [1, 0, 199]\n",
            "epoch 2027 count 200 [3, 4, 193]\n",
            "epoch 2028 count 200 [1, 5, 194]\n",
            "epoch 2029 count 200 [0, 0, 200]\n"
          ],
          "name": "stdout"
        }
      ]
    }
  ]
}