{
 "cells": [
  {
   "cell_type": "code",
   "execution_count": 1,
   "metadata": {},
   "outputs": [],
   "source": [
    "import gym\n",
    "import numpy as np\n",
    "import random"
   ]
  },
  {
   "cell_type": "code",
   "execution_count": 2,
   "metadata": {},
   "outputs": [],
   "source": [
    "def getRandomMaxAction(q):\n",
    "    index = (q==q.max()).nonzero()[0]\n",
    "    return np.random.choice(index)"
   ]
  },
  {
   "cell_type": "markdown",
   "metadata": {},
   "source": [
    "###### Q-Learning with learning-rate."
   ]
  },
  {
   "cell_type": "code",
   "execution_count": 146,
   "metadata": {
    "scrolled": true
   },
   "outputs": [
    {
     "name": "stdout",
     "output_type": "stream",
     "text": [
      "Cleared Rate = 0.5115\n"
     ]
    }
   ],
   "source": [
    "env = gym.make(\"FrozenLake-v0\")\n",
    "Q = np.zeros((obs_size,action_size))\n",
    "\n",
    "action_size = env.action_space.n\n",
    "obs_size = env.observation_space.n\n",
    "\n",
    "eps = 1\n",
    "gamma = 0.95\n",
    "lr = 0.4\n",
    "cleared = 0\n",
    "epoch = 2000\n",
    "use_noise = False\n",
    "\n",
    "for i in range(2000):\n",
    "    obs = env.reset()\n",
    "    while True:\n",
    "        if use_noise:\n",
    "            action = getRandomMaxAction(Q[obs]+np.random.randn(4)/(cleared+1))\n",
    "        else:\n",
    "            if random.random() < eps/(cleared+1):\n",
    "                action = env.action_space.sample()\n",
    "            else:\n",
    "                action = getRandomMaxAction(Q[obs])\n",
    "        next_obs, rew, done, etc = env.step(action)\n",
    "        \n",
    "        if next_obs != obs:\n",
    "            Q[obs, action] = (1-lr) * Q[obs,action] + lr*(rew + gamma * Q[next_obs].max())\n",
    "        \n",
    "        if done:\n",
    "            break\n",
    "        obs = next_obs\n",
    "\n",
    "    if rew == 1:\n",
    "        cleared +=1\n",
    "print(\"Cleared Rate = %.4f\"%(cleared/epoch))"
   ]
  },
  {
   "cell_type": "markdown",
   "metadata": {},
   "source": [
    "###### Q-Network"
   ]
  },
  {
   "cell_type": "code",
   "execution_count": 149,
   "metadata": {
    "scrolled": true
   },
   "outputs": [],
   "source": [
    "import torch\n",
    "import torch.nn as nn\n",
    "import torch.optim as optim"
   ]
  },
  {
   "cell_type": "code",
   "execution_count": 160,
   "metadata": {},
   "outputs": [],
   "source": [
    "class Net(nn.Module):\n",
    "    def __init__(self, in_size, hidden_size, out_size):\n",
    "        super(Net, self).__init__()\n",
    "        self.net = nn.Sequential(\n",
    "            nn.Linear(in_size, hidden_size),\n",
    "            nn.ReLU(),\n",
    "            nn.Linear(hidden_size, out_size)\n",
    "        )\n",
    "    def forward(self, x):\n",
    "        return self.net(x)"
   ]
  },
  {
   "cell_type": "code",
   "execution_count": 187,
   "metadata": {},
   "outputs": [],
   "source": [
    "def getOneHot(idx, size):\n",
    "    x = np.zeros((1,size))\n",
    "    x[0,idx] = 1\n",
    "    return torch.FloatTensor(x)"
   ]
  },
  {
   "cell_type": "code",
   "execution_count": 271,
   "metadata": {
    "scrolled": true
   },
   "outputs": [
    {
     "name": "stdout",
     "output_type": "stream",
     "text": [
      "!!!!!!!!!!\n",
      "Cleared Rate = 0.0265\n"
     ]
    }
   ],
   "source": [
    "env = gym.make(\"FrozenLake-v0\")\n",
    "\n",
    "action_size = env.action_space.n\n",
    "obs_size = env.observation_space.n\n",
    "hidden_size = 64\n",
    "eps = 0.1\n",
    "\n",
    "QNet = Net(obs_size, hidden_size, action_size)\n",
    "loss = nn.MSELoss()\n",
    "opt = optim.Adam(QNet.parameters(), lr = 0.3)\n",
    "cleared = 0\n",
    "\n",
    "for i in range(epoch):\n",
    "    obs = env.reset()\n",
    "    while True:\n",
    "        if random.random() < eps:\n",
    "            action = env.action_space.sample()\n",
    "        else:\n",
    "            opt.zero_grad()\n",
    "            Q = QNet(getOneHot(obs, obs_size))\n",
    "            action = Q.data.numpy().argmax()\n",
    "            \n",
    "        next_obs, rew, done, etc = env.step(action)\n",
    "        \n",
    "        if next_obs != obs:\n",
    "            Y=Q.clone().detach()\n",
    "            if done:\n",
    "                Y[0, action] = rew\n",
    "                break\n",
    "            else:\n",
    "                Y[0, action] = rew + gamma * QNet(getOneHot(next_obs, obs_size).detach()).data.numpy().max()\n",
    "            loss_ = loss(Q, Y)\n",
    "            loss_.backward(retain_graph=True)\n",
    "            opt.step()\n",
    "            \n",
    "            obs = next_obs\n",
    "        \n",
    "        if done:\n",
    "            break\n",
    "    if rew == 1:\n",
    "        cleared +=1\n",
    "    if i%(epoch/10) == 0:\n",
    "        print(\"!\",end=\"\")\n",
    "print()\n",
    "print(\"Cleared Rate = %.4f\"%(cleared/epoch))"
   ]
  },
  {
   "cell_type": "code",
   "execution_count": 272,
   "metadata": {},
   "outputs": [
    {
     "name": "stdout",
     "output_type": "stream",
     "text": [
      "tensor([[ 1.4732e-13,  2.3317e-14, -2.1763e-13,  2.2249e-13]],\n",
      "       grad_fn=<AddmmBackward>) tensor([[ 1.4732e-13,  2.3317e-14, -2.1763e-13,  0.0000e+00]])\n"
     ]
    }
   ],
   "source": [
    "loss(Q,Y)"
   ]
  },
  {
   "cell_type": "code",
   "execution_count": 273,
   "metadata": {},
   "outputs": [
    {
     "data": {
      "text/plain": [
       "tensor(1.2375e-26, grad_fn=<MseLossBackward>)"
      ]
     },
     "execution_count": 273,
     "metadata": {},
     "output_type": "execute_result"
    }
   ],
   "source": [
    "loss(Q,Y)"
   ]
  }
 ],
 "metadata": {
  "kernelspec": {
   "display_name": "Python 3",
   "language": "python",
   "name": "python3"
  },
  "language_info": {
   "codemirror_mode": {
    "name": "ipython",
    "version": 3
   },
   "file_extension": ".py",
   "mimetype": "text/x-python",
   "name": "python",
   "nbconvert_exporter": "python",
   "pygments_lexer": "ipython3",
   "version": "3.6.5"
  }
 },
 "nbformat": 4,
 "nbformat_minor": 2
}
