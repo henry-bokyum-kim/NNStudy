{
  "nbformat": 4,
  "nbformat_minor": 0,
  "metadata": {
    "kernelspec": {
      "name": "python3",
      "display_name": "Python 3"
    },
    "language_info": {
      "codemirror_mode": {
        "name": "ipython",
        "version": 3
      },
      "file_extension": ".py",
      "mimetype": "text/x-python",
      "name": "python",
      "nbconvert_exporter": "python",
      "pygments_lexer": "ipython3",
      "version": "3.6.5"
    },
    "colab": {
      "name": "[RL][PG][DDPG][BK] ddpg test.ipynb",
      "provenance": []
    },
    "accelerator": "GPU"
  },
  "cells": [
    {
      "cell_type": "code",
      "metadata": {
        "id": "AiZUJW5TK_HX",
        "colab_type": "code",
        "colab": {
          "base_uri": "https://localhost:8080/",
          "height": 613
        },
        "outputId": "1ca0196c-e0b5-41bf-8cc1-2183fb355e56"
      },
      "source": [
        "!pip install gym pyvirtualdisplay > /dev/null 2>&1\n",
        "!apt-get install -y xvfb python-opengl ffmpeg > /dev/null 2>&1\n",
        "!apt-get install x11-utils\n",
        "\n",
        "from pyvirtualdisplay import Display\n",
        "from IPython import display as ipythondisplay\n",
        "\n",
        "v_display = Display(visible=0, size=(1400,900),)\n",
        "v_display.start()"
      ],
      "execution_count": 1,
      "outputs": [
        {
          "output_type": "stream",
          "text": [
            "\rReading package lists... 0%\r\rReading package lists... 0%\r\rReading package lists... 0%\r\rReading package lists... 7%\r\rReading package lists... 7%\r\rReading package lists... 7%\r\rReading package lists... 7%\r\rReading package lists... 65%\r\rReading package lists... 65%\r\rReading package lists... 65%\r\rReading package lists... 65%\r\rReading package lists... 72%\r\rReading package lists... 72%\r\rReading package lists... 73%\r\rReading package lists... 73%\r\rReading package lists... 82%\r\rReading package lists... 82%\r\rReading package lists... 82%\r\rReading package lists... 82%\r\rReading package lists... 82%\r\rReading package lists... 82%\r\rReading package lists... 82%\r\rReading package lists... 82%\r\rReading package lists... 87%\r\rReading package lists... 87%\r\rReading package lists... 87%\r\rReading package lists... 87%\r\rReading package lists... 88%\r\rReading package lists... 93%\r\rReading package lists... 93%\r\rReading package lists... 93%\r\rReading package lists... 93%\r\rReading package lists... 93%\r\rReading package lists... 93%\r\rReading package lists... 94%\r\rReading package lists... 94%\r\rReading package lists... 95%\r\rReading package lists... 95%\r\rReading package lists... 98%\r\rReading package lists... 98%\r\rReading package lists... 98%\r\rReading package lists... 98%\r\rReading package lists... Done\r\n",
            "\rBuilding dependency tree... 0%\r\rBuilding dependency tree... 0%\r\rBuilding dependency tree... 50%\r\rBuilding dependency tree... 50%\r\rBuilding dependency tree       \r\n",
            "\rReading state information... 0%\r\rReading state information... 0%\r\rReading state information... Done\r\n",
            "The following package was automatically installed and is no longer required:\n",
            "  libnvidia-common-430\n",
            "Use 'apt autoremove' to remove it.\n",
            "The following additional packages will be installed:\n",
            "  libxxf86dga1\n",
            "Suggested packages:\n",
            "  mesa-utils\n",
            "The following NEW packages will be installed:\n",
            "  libxxf86dga1 x11-utils\n",
            "0 upgraded, 2 newly installed, 0 to remove and 25 not upgraded.\n",
            "Need to get 209 kB of archives.\n",
            "After this operation, 711 kB of additional disk space will be used.\n",
            "Get:1 http://archive.ubuntu.com/ubuntu bionic/main amd64 libxxf86dga1 amd64 2:1.1.4-1 [13.7 kB]\n",
            "Get:2 http://archive.ubuntu.com/ubuntu bionic/main amd64 x11-utils amd64 7.7+3build1 [196 kB]\n",
            "Fetched 209 kB in 2s (108 kB/s)\n",
            "Selecting previously unselected package libxxf86dga1:amd64.\n",
            "(Reading database ... 147475 files and directories currently installed.)\n",
            "Preparing to unpack .../libxxf86dga1_2%3a1.1.4-1_amd64.deb ...\n",
            "Unpacking libxxf86dga1:amd64 (2:1.1.4-1) ...\n",
            "Selecting previously unselected package x11-utils.\n",
            "Preparing to unpack .../x11-utils_7.7+3build1_amd64.deb ...\n",
            "Unpacking x11-utils (7.7+3build1) ...\n",
            "Setting up libxxf86dga1:amd64 (2:1.1.4-1) ...\n",
            "Setting up x11-utils (7.7+3build1) ...\n",
            "Processing triggers for man-db (2.8.3-2ubuntu0.1) ...\n",
            "Processing triggers for libc-bin (2.27-3ubuntu1) ...\n",
            "/sbin/ldconfig.real: /usr/local/lib/python3.6/dist-packages/ideep4py/lib/libmkldnn.so.0 is not a symbolic link\n",
            "\n"
          ],
          "name": "stdout"
        },
        {
          "output_type": "execute_result",
          "data": {
            "text/plain": [
              "<Display cmd_param=['Xvfb', '-br', '-nolisten', 'tcp', '-screen', '0', '1400x900x24', ':1001'] cmd=['Xvfb', '-br', '-nolisten', 'tcp', '-screen', '0', '1400x900x24', ':1001'] oserror=None return_code=None stdout=\"None\" stderr=\"None\" timeout_happened=False>"
            ]
          },
          "metadata": {
            "tags": []
          },
          "execution_count": 1
        }
      ]
    },
    {
      "cell_type": "code",
      "metadata": {
        "id": "3xdhZ0_SLRCP",
        "colab_type": "code",
        "colab": {
          "base_uri": "https://localhost:8080/",
          "height": 829
        },
        "outputId": "e4635cb0-2a6d-4bca-fcb2-72d66864a537"
      },
      "source": [
        "!apt-get install swig\n",
        "!pip3 install box2d box2d-kengz"
      ],
      "execution_count": 2,
      "outputs": [
        {
          "output_type": "stream",
          "text": [
            "\rReading package lists... 0%\r\rReading package lists... 0%\r\rReading package lists... 0%\r\rReading package lists... 7%\r\rReading package lists... 7%\r\rReading package lists... 7%\r\rReading package lists... 7%\r\rReading package lists... 65%\r\rReading package lists... 65%\r\rReading package lists... 65%\r\rReading package lists... 65%\r\rReading package lists... 72%\r\rReading package lists... 72%\r\rReading package lists... 73%\r\rReading package lists... 73%\r\rReading package lists... 82%\r\rReading package lists... 82%\r\rReading package lists... 82%\r\rReading package lists... 82%\r\rReading package lists... 82%\r\rReading package lists... 82%\r\rReading package lists... 82%\r\rReading package lists... 82%\r\rReading package lists... 87%\r\rReading package lists... 87%\r\rReading package lists... 87%\r\rReading package lists... 87%\r\rReading package lists... 88%\r\rReading package lists... 93%\r\rReading package lists... 93%\r\rReading package lists... 93%\r\rReading package lists... 93%\r\rReading package lists... 93%\r\rReading package lists... 93%\r\rReading package lists... 94%\r\rReading package lists... 94%\r\rReading package lists... 95%\r\rReading package lists... 95%\r\rReading package lists... 98%\r\rReading package lists... 98%\r\rReading package lists... 98%\r\rReading package lists... 98%\r\rReading package lists... Done\r\n",
            "\rBuilding dependency tree... 0%\r\rBuilding dependency tree... 0%\r\rBuilding dependency tree... 50%\r\rBuilding dependency tree... 50%\r\rBuilding dependency tree       \r\n",
            "\rReading state information... 0%\r\rReading state information... 0%\r\rReading state information... Done\r\n",
            "The following package was automatically installed and is no longer required:\n",
            "  libnvidia-common-430\n",
            "Use 'apt autoremove' to remove it.\n",
            "The following additional packages will be installed:\n",
            "  swig3.0\n",
            "Suggested packages:\n",
            "  swig-doc swig-examples swig3.0-examples swig3.0-doc\n",
            "The following NEW packages will be installed:\n",
            "  swig swig3.0\n",
            "0 upgraded, 2 newly installed, 0 to remove and 25 not upgraded.\n",
            "Need to get 1,100 kB of archives.\n",
            "After this operation, 5,822 kB of additional disk space will be used.\n",
            "Get:1 http://archive.ubuntu.com/ubuntu bionic/universe amd64 swig3.0 amd64 3.0.12-1 [1,094 kB]\n",
            "Get:2 http://archive.ubuntu.com/ubuntu bionic/universe amd64 swig amd64 3.0.12-1 [6,460 B]\n",
            "Fetched 1,100 kB in 3s (399 kB/s)\n",
            "Selecting previously unselected package swig3.0.\n",
            "(Reading database ... 147529 files and directories currently installed.)\n",
            "Preparing to unpack .../swig3.0_3.0.12-1_amd64.deb ...\n",
            "Unpacking swig3.0 (3.0.12-1) ...\n",
            "Selecting previously unselected package swig.\n",
            "Preparing to unpack .../swig_3.0.12-1_amd64.deb ...\n",
            "Unpacking swig (3.0.12-1) ...\n",
            "Setting up swig3.0 (3.0.12-1) ...\n",
            "Setting up swig (3.0.12-1) ...\n",
            "Processing triggers for man-db (2.8.3-2ubuntu0.1) ...\n",
            "Collecting box2d\n",
            "\u001b[?25l  Downloading https://files.pythonhosted.org/packages/cc/7b/ddb96fea1fa5b24f8929714ef483f64c33e9649e7aae066e5f5023ea426a/Box2D-2.3.2.tar.gz (427kB)\n",
            "\u001b[K     |████████████████████████████████| 430kB 23.9MB/s \n",
            "\u001b[?25hCollecting box2d-kengz\n",
            "\u001b[?25l  Downloading https://files.pythonhosted.org/packages/81/20/51d6c0c87f7642efb709c518fb0ca8e5eab068259588552c41da5926ae27/Box2D-kengz-2.3.3.tar.gz (425kB)\n",
            "\u001b[K     |████████████████████████████████| 430kB 48.1MB/s \n",
            "\u001b[?25hBuilding wheels for collected packages: box2d, box2d-kengz\n",
            "  Building wheel for box2d (setup.py) ... \u001b[?25l\u001b[?25hdone\n",
            "  Created wheel for box2d: filename=Box2D-2.3.2-cp36-cp36m-linux_x86_64.whl size=2008606 sha256=65bb4964c458b4e8fef5475d160ad4719ab632f392b672a221deeaf2a53b8687\n",
            "  Stored in directory: /root/.cache/pip/wheels/35/09/fd/054e73da7184a08071ed889bf45772719c7bb6d2dd13f166a1\n",
            "  Building wheel for box2d-kengz (setup.py) ... \u001b[?25l\u001b[?25hdone\n",
            "  Created wheel for box2d-kengz: filename=Box2D_kengz-2.3.3-cp36-cp36m-linux_x86_64.whl size=2008712 sha256=e72689e10932b035ff0957425404eaa651976dcc046e85ded174ae55903d16be\n",
            "  Stored in directory: /root/.cache/pip/wheels/75/ae/e5/8bc678d262caad94659c199c540550e59d03dd3bd3684d4f1a\n",
            "Successfully built box2d box2d-kengz\n",
            "Installing collected packages: box2d, box2d-kengz\n",
            "Successfully installed box2d-2.3.2 box2d-kengz-2.3.3\n"
          ],
          "name": "stdout"
        }
      ]
    },
    {
      "cell_type": "code",
      "metadata": {
        "id": "WzaLXqsqJ6Db",
        "colab_type": "code",
        "colab": {}
      },
      "source": [
        "import torch\n",
        "import torch.nn as nn\n",
        "import torch.nn.functional as F\n",
        "import torch.optim as optim\n",
        "\n",
        "import gym\n",
        "\n",
        "import numpy as np\n",
        "\n",
        "import random\n",
        "import math\n",
        "\n",
        "import collections\n",
        "from collections import namedtuple"
      ],
      "execution_count": 0,
      "outputs": []
    },
    {
      "cell_type": "code",
      "metadata": {
        "id": "omoh29dxJ6Dg",
        "colab_type": "code",
        "colab": {}
      },
      "source": [
        "step = namedtuple(\"step\", (\"state\", \"action\", \"next_state\", \"reward\", \"done\"))\n",
        "\n",
        "class Replay:\n",
        "    def __init__(self, size):\n",
        "        self.memory = collections.deque(maxlen = size)\n",
        "        \n",
        "    def push(self, data):\n",
        "        self.memory.append(data)\n",
        "        \n",
        "    def prepare(self, env):\n",
        "        pass\n",
        "        \n",
        "    def sample(self, size):\n",
        "        if len(self.memory) >= size:\n",
        "            return random.sample(self.memory, size)"
      ],
      "execution_count": 0,
      "outputs": []
    },
    {
      "cell_type": "code",
      "metadata": {
        "id": "osS_PNCMLlRL",
        "colab_type": "code",
        "colab": {}
      },
      "source": [
        "import numpy as np\n",
        "import math\n",
        "\n",
        "class NoiseMaker():\n",
        "    def __init__(self, action_size, n_type = None, param = None):\n",
        "        self.action_size = action_size\n",
        "        self.state = np.zeros(action_size, dtype=np.float32)\n",
        "        self.count = 0\n",
        "        if n_type is None:\n",
        "            n_type = \"normal\"\n",
        "        self.type = n_type\n",
        "        \n",
        "        if param is None:\n",
        "            self.param = {\n",
        "                \"start\": 0.9,\n",
        "                \"end\":0.02,\n",
        "                \"decay\": 20000\n",
        "            }\n",
        "            if n_type ==\"ou\":\n",
        "                self.param[\"ou_mu\"] = 1.0\n",
        "                self.param[\"ou_th\"] = 0.15\n",
        "                self.param[\"ou_sig\"] = 0.2\n",
        "        else:\n",
        "            self.param = param\n",
        "            \n",
        "    def get_noise(self, n_type = None):\n",
        "        n_type = n_type if n_type is not None else self.type\n",
        "        eps = self.param[\"end\"] + (self.param[\"start\"] - self.param[\"end\"]) \\\n",
        "                * math.exp(-1*self.count/ self.param[\"decay\"])\n",
        "        \n",
        "        noise = np.random.normal(size=self.action_size)\n",
        "        if n_type == \"ou\":\n",
        "            self.state += self.param[\"ou_th\"] * (self.param[\"ou_mu\"] - self.state) \\\n",
        "                        + self.param[\"ou_sig\"] * noise\n",
        "            noise = self.state\n",
        "        self.count += 1\n",
        "            \n",
        "        return noise * eps"
      ],
      "execution_count": 0,
      "outputs": []
    },
    {
      "cell_type": "code",
      "metadata": {
        "id": "GYRqH1BsJ6Di",
        "colab_type": "code",
        "colab": {}
      },
      "source": [
        "class Actor(nn.Module):\n",
        "    def __init__(self, state_n, action_n, hidden = 512):\n",
        "        super(Actor, self).__init__()\n",
        "        self.net = nn.Sequential(\n",
        "            nn.Linear(state_n, hidden),\n",
        "            nn.ReLU(),\n",
        "            nn.Linear(hidden, int(hidden/2)),\n",
        "            nn.ReLU(),\n",
        "            nn.Linear(int(hidden/2), action_n),\n",
        "            nn.Tanh()\n",
        "        )\n",
        "        \n",
        "    def forward(self,x):\n",
        "        return self.net(x)\n",
        "    \n",
        "class Critic(nn.Module):\n",
        "    def __init__(self, state_n, action_n, hidden = 512):\n",
        "        super(Critic, self).__init__()\n",
        "        self.net = nn.Sequential(\n",
        "            nn.Linear(state_n, hidden),\n",
        "            nn.ReLU(),\n",
        "        )\n",
        "        self.out = nn.Sequential(\n",
        "            nn.Linear(hidden+action_n, int(hidden/2)),\n",
        "            nn.ReLU(),\n",
        "            nn.Linear(int(hidden/2), 1)\n",
        "        )\n",
        "        \n",
        "    def forward(self, state, act):\n",
        "        temp = self.net(state)\n",
        "        return self.out(torch.cat([temp, act], dim=1))"
      ],
      "execution_count": 0,
      "outputs": []
    },
    {
      "cell_type": "code",
      "metadata": {
        "id": "KIOu1OrnJ6Dl",
        "colab_type": "code",
        "colab": {
          "base_uri": "https://localhost:8080/",
          "height": 73
        },
        "outputId": "56ebd4a2-1d84-4fc4-863e-82a0b507ab8b"
      },
      "source": [
        "EPOCH = 5000\n",
        "GAME_NAME = \"BipedalWalker-v3\"\n",
        "\n",
        "env = gym.make(GAME_NAME)\n",
        "obs_n = env.observation_space.shape[0]\n",
        "act_n = env.action_space.shape[0]\n",
        "\n",
        "LR_ACT = 0.0008\n",
        "LR_CRT = 0.004\n",
        "TAU = 0.0008\n",
        "GAMMA = 0.99\n",
        "\n",
        "actor = Actor(obs_n, act_n).cuda()\n",
        "actor_optim = optim.Adam(actor.parameters(), lr = LR_ACT)\n",
        "actor_tgt = Actor(obs_n, act_n).cuda()\n",
        "actor_tgt.load_state_dict(actor.state_dict())\n",
        "\n",
        "critic = Critic(obs_n, act_n).cuda()\n",
        "critic_optim = optim.Adam(critic.parameters(), lr = LR_CRT)\n",
        "critic_tgt = Critic(obs_n, act_n).cuda()\n",
        "critic_tgt.load_state_dict(critic.state_dict())\n",
        "\n",
        "MAX_MEMORY = 100000\n",
        "MEM_INIT = 2000\n",
        "BATCH = 512\n",
        "storage = Replay(MAX_MEMORY)\n",
        "noise = NoiseMaker(act_n, \"ou\")\n",
        "\n",
        "VIDEO = 100"
      ],
      "execution_count": 8,
      "outputs": [
        {
          "output_type": "stream",
          "text": [
            "/usr/local/lib/python3.6/dist-packages/gym/logger.py:30: UserWarning: \u001b[33mWARN: Box bound precision lowered by casting to float32\u001b[0m\n",
            "  warnings.warn(colorize('%s: %s'%('WARN', msg % args), 'yellow'))\n"
          ],
          "name": "stderr"
        }
      ]
    },
    {
      "cell_type": "code",
      "metadata": {
        "scrolled": true,
        "id": "nJmlM4p3J6Dn",
        "colab_type": "code",
        "colab": {
          "base_uri": "https://localhost:8080/",
          "height": 809
        },
        "outputId": "a8e73e73-3bf5-4c5e-bb86-da292011efc7"
      },
      "source": [
        "frame = []\n",
        "\n",
        "for epoch in range(EPOCH):\n",
        "    obs = env.reset()\n",
        "    if epoch%VIDEO == 0:\n",
        "        frame.append(env.render(\"rgb_array\"))\n",
        "    \n",
        "    count = 0\n",
        "    act_dis = [0,0,0]\n",
        "    while True:\n",
        "        with torch.no_grad():\n",
        "            act_v = actor(torch.FloatTensor(obs).cuda()).cpu().numpy()\n",
        "            act_v += noise.get_noise(\"ou\")\n",
        "            act_v = act_v.clip(-1, 1)\n",
        "            \n",
        "        next_obs, rew, done, _ = env.step(act_v)\n",
        "        if epoch%VIDEO == 0:\n",
        "            frame.append(env.render(\"rgb_array\"))\n",
        "        count += 1\n",
        "        \n",
        "        storage.push(step(obs, act_v, next_obs, rew, done))\n",
        "        obs = next_obs\n",
        "        \n",
        "        sample = storage.sample(BATCH)\n",
        "        if sample:\n",
        "            sample = step(*zip(*sample))\n",
        "            \n",
        "            states = torch.FloatTensor(sample.state).cuda()\n",
        "            actions = torch.FloatTensor(sample.action).cuda()\n",
        "            next_states = torch.FloatTensor(sample.next_state).cuda()\n",
        "            rewards = torch.FloatTensor(sample.reward).unsqueeze(-1).cuda()\n",
        "            dones = torch.BoolTensor(sample.done).unsqueeze(-1).cuda()\n",
        "            \n",
        "            # critic learning\n",
        "            critic_optim.zero_grad()\n",
        "            q_pred = critic(states, actions)\n",
        "            \n",
        "            next_action_v = actor_tgt(next_states)\n",
        "            q_next = critic_tgt(next_states, next_action_v)\n",
        "            q_next[dones] = 0\n",
        "            q_target = rewards + GAMMA * q_next\n",
        "            \n",
        "            critic_loss = F.mse_loss(q_pred, q_target.detach())\n",
        "            critic_loss.backward()\n",
        "            critic_optim.step()\n",
        "            \n",
        "            # actor learning\n",
        "            actor_optim.zero_grad()\n",
        "            actor_loss = -critic(states, actor(states))\n",
        "            actor_loss = actor_loss.mean()\n",
        "            actor_loss.backward()\n",
        "            actor_optim.step()\n",
        "            \n",
        "            # tgt soft update\n",
        "            for tgt, real  in zip(actor_tgt.parameters(), actor.parameters()):\n",
        "                tgt.data.copy_(TAU*real.data + (1-TAU)*tgt.data)\n",
        "                \n",
        "            for tgt, real  in zip(critic_tgt.parameters(),critic.parameters()):\n",
        "                tgt.data.copy_(TAU*real.data + (1-TAU)*tgt.data)\n",
        "            \n",
        "        if done:\n",
        "            break\n",
        "    print(\"epoch %d count %d\"%(epoch, count), act_dis)\n",
        "    \n",
        "env.close()"
      ],
      "execution_count": 0,
      "outputs": [
        {
          "output_type": "stream",
          "text": [
            "epoch 0 count 45 [0, 0, 0]\n",
            "epoch 1 count 39 [0, 0, 0]\n",
            "epoch 2 count 139 [0, 0, 0]\n",
            "epoch 3 count 115 [0, 0, 0]\n",
            "epoch 4 count 41 [0, 0, 0]\n",
            "epoch 5 count 54 [0, 0, 0]\n",
            "epoch 6 count 107 [0, 0, 0]\n",
            "epoch 7 count 108 [0, 0, 0]\n",
            "epoch 8 count 42 [0, 0, 0]\n",
            "epoch 9 count 75 [0, 0, 0]\n",
            "epoch 10 count 49 [0, 0, 0]\n",
            "epoch 11 count 41 [0, 0, 0]\n",
            "epoch 12 count 70 [0, 0, 0]\n",
            "epoch 13 count 106 [0, 0, 0]\n",
            "epoch 14 count 105 [0, 0, 0]\n",
            "epoch 15 count 112 [0, 0, 0]\n",
            "epoch 16 count 101 [0, 0, 0]\n",
            "epoch 17 count 121 [0, 0, 0]\n",
            "epoch 18 count 103 [0, 0, 0]\n",
            "epoch 19 count 89 [0, 0, 0]\n",
            "epoch 20 count 48 [0, 0, 0]\n",
            "epoch 21 count 92 [0, 0, 0]\n",
            "epoch 22 count 109 [0, 0, 0]\n",
            "epoch 23 count 48 [0, 0, 0]\n",
            "epoch 24 count 107 [0, 0, 0]\n",
            "epoch 25 count 42 [0, 0, 0]\n",
            "epoch 26 count 122 [0, 0, 0]\n",
            "epoch 27 count 127 [0, 0, 0]\n",
            "epoch 28 count 112 [0, 0, 0]\n",
            "epoch 29 count 170 [0, 0, 0]\n",
            "epoch 30 count 126 [0, 0, 0]\n",
            "epoch 31 count 180 [0, 0, 0]\n",
            "epoch 32 count 85 [0, 0, 0]\n",
            "epoch 33 count 105 [0, 0, 0]\n",
            "epoch 34 count 148 [0, 0, 0]\n",
            "epoch 35 count 110 [0, 0, 0]\n",
            "epoch 36 count 105 [0, 0, 0]\n",
            "epoch 37 count 91 [0, 0, 0]\n",
            "epoch 38 count 57 [0, 0, 0]\n",
            "epoch 39 count 1600 [0, 0, 0]\n",
            "epoch 40 count 49 [0, 0, 0]\n",
            "epoch 41 count 1600 [0, 0, 0]\n",
            "epoch 42 count 54 [0, 0, 0]\n",
            "epoch 43 count 55 [0, 0, 0]\n"
          ],
          "name": "stdout"
        }
      ]
    }
  ]
}