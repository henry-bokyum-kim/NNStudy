{
  "nbformat": 4,
  "nbformat_minor": 0,
  "metadata": {
    "colab": {
      "name": "[RL][PG][REINFORCE][BK]reinforce basic.ipynb",
      "provenance": [],
      "authorship_tag": "ABX9TyMH4cPALtNu8/k2IXHi+TPc",
      "include_colab_link": true
    },
    "kernelspec": {
      "name": "python3",
      "display_name": "Python 3"
    }
  },
  "cells": [
    {
      "cell_type": "markdown",
      "metadata": {
        "id": "view-in-github",
        "colab_type": "text"
      },
      "source": [
        "<a href=\"https://colab.research.google.com/github/henry-bokyum-kim/NNStudy/blob/bokyum/%5BRL%5D%5BPG%5D%5BREINFORCE%5D%5BBK%5Dreinforce_basic.ipynb\" target=\"_parent\"><img src=\"https://colab.research.google.com/assets/colab-badge.svg\" alt=\"Open In Colab\"/></a>"
      ]
    },
    {
      "cell_type": "code",
      "metadata": {
        "id": "OH2TpNlfwynJ",
        "colab_type": "code",
        "colab": {}
      },
      "source": [
        "#!/usr/bin/env python3\n",
        "import gym\n",
        "import torch\n",
        "import torch.nn as nn\n",
        "import torch.nn.functional as F\n",
        "import torch.optim as opt\n",
        "import numpy as np\n",
        "import random\n",
        "\n",
        "class PGN(nn.Module):\n",
        "    def __init__(self, in_size, out_size, hidden = 256):\n",
        "        super(PGN, self).__init__()\n",
        "        self.net = nn.Sequential(\n",
        "            nn.Linear(in_size, hidden),\n",
        "            nn.ReLU(),\n",
        "            nn.Linear(hidden, out_size)\n",
        "        )\n",
        "    def forward(self, x):\n",
        "        return self.net(x)\n",
        "\n",
        "EPOCH = 4000\n",
        "LR=0.001\n",
        "GAMMA = 0.99\n",
        "BATCH_EP = 3\n",
        "GAME = \"Acrobot-v1\"\n",
        "\n",
        "env = gym.make(GAME)\n",
        "net = PGN(env.observation_space.shape[0], env.action_space.n, 128)\n",
        "optim = opt.Adam(net.parameters(), lr = LR)"
      ],
      "execution_count": 0,
      "outputs": []
    },
    {
      "cell_type": "code",
      "metadata": {
        "id": "fFsZoztnw1Ve",
        "colab_type": "code",
        "colab": {}
      },
      "source": [
        "def get_onehot(i, size):\n",
        "    ret= np.zeros(size)\n",
        "    ret[i]=1\n",
        "    return list(ret)"
      ],
      "execution_count": 0,
      "outputs": []
    },
    {
      "cell_type": "code",
      "metadata": {
        "id": "hQdYVNJxw3nw",
        "colab_type": "code",
        "colab": {}
      },
      "source": [
        "if __name__ == \"__main__\":    \n",
        "    batch_size = 0\n",
        "    batch_obs = []\n",
        "    batch_act = []\n",
        "    batch_qval = []\n",
        "    done_ = 0\n",
        "    for epoch in range(EPOCH):\n",
        "        obs = env.reset()\n",
        "        if GAME == \"FrozenLake-v0\":\n",
        "            obs = get_onehot(obs, env.observation_space.n)\n",
        "        cur_rew = []\n",
        "        count = 0\n",
        "        while True:\n",
        "            with torch.no_grad():\n",
        "                out = net(torch.FloatTensor(obs))\n",
        "                act = np.random.choice(env.action_space.n, p=F.softmax(out).numpy())\n",
        "                \n",
        "            next_obs, rew, done, _ = env.step(act)\n",
        "            count+=1\n",
        "            \n",
        "            if GAME == \"FrozenLake-v0\":\n",
        "                if done and rew == 0:\n",
        "                    rew = -200\n",
        "                elif done and rew == 1:\n",
        "                    rew = 500\n",
        "                else:\n",
        "                    rew = -4\n",
        "            \n",
        "            batch_obs.append(obs)\n",
        "            batch_act.append(act)\n",
        "            cur_rew.append(rew)\n",
        "            \n",
        "            obs = next_obs\n",
        "            if GAME == \"FrozenLake-v0\":\n",
        "                obs = get_onehot(obs, env.observation_space.n)\n",
        "            \n",
        "            if done:\n",
        "                qval = []\n",
        "                r_sum = 0\n",
        "                for r in reversed(cur_rew):\n",
        "                    r_sum*= GAMMA\n",
        "                    r_sum+= r\n",
        "                    qval.append(r_sum)\n",
        "                batch_qval.extend(list(reversed(qval)))\n",
        "                batch_size+=1\n",
        "                break\n",
        "        print(\"epoch : %d count : %d rew : %d\"%(epoch, count, rew))\n",
        "        if rew > 0:\n",
        "            done_ +=1\n",
        "                \n",
        "        if batch_size == BATCH_EP:\n",
        "            obss = torch.FloatTensor(batch_obs)\n",
        "            acts = torch.LongTensor(batch_act).unsqueeze(-1)\n",
        "            qvals = torch.FloatTensor(batch_qval).unsqueeze(-1)\n",
        "                \n",
        "            optim.zero_grad()\n",
        "            \n",
        "            logit = net(obss)\n",
        "            prob = F.log_softmax(logit).gather(1, acts)\n",
        "            value = qvals * prob\n",
        "            \n",
        "            loss = -value.mean()\n",
        "            loss.backward()\n",
        "            optim.step()\n",
        "\n",
        "            batch_size = 0\n",
        "            batch_obs = []\n",
        "            batch_act = []\n",
        "            batch_qval = []"
      ],
      "execution_count": 0,
      "outputs": []
    }
  ]
}