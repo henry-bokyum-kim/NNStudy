{
 "cells": [
  {
   "cell_type": "code",
   "execution_count": 9,
   "metadata": {},
   "outputs": [],
   "source": [
    "import gym\n",
    "import numpy as np\n",
    "import pandas as pd\n",
    "import seaborn as sns\n",
    "import matplotlib.pyplot as plt\n",
    "\n",
    "import torch\n",
    "import torch.nn as nn\n",
    "import torch.nn.functional as F\n",
    "import torch.optim as optim\n",
    "import torchvision\n",
    "from PIL import Image\n",
    "\n",
    "from collections import namedtuple, deque\n",
    "\n",
    "import math\n",
    "import random\n",
    "import copy\n",
    "\n",
    "import cv2"
   ]
  },
  {
   "cell_type": "code",
   "execution_count": 10,
   "metadata": {},
   "outputs": [],
   "source": [
    "device = \"cuda:0\" if torch.cuda.is_available() else \"cpu\"\n",
    "# device = \"cpu\""
   ]
  },
  {
   "cell_type": "code",
   "execution_count": 11,
   "metadata": {},
   "outputs": [],
   "source": [
    "class StyleNet(nn.Module):\n",
    "    def __init__(self):\n",
    "        super(StyleNet, self).__init__()\n",
    "        vgg = torchvision.models.vgg11(pretrained=True)\n",
    "        self.net = nn.Sequential()\n",
    "        self.net.add_module(\"feature1\", vgg.features[:3])\n",
    "        self.net.add_module(\"feature2\", vgg.features[3:6])\n",
    "        self.net.add_module(\"feature3\", vgg.features[6:11])\n",
    "        self.net.add_module(\"feature4\", vgg.features[11:16])\n",
    "        self.net.add_module(\"feature5\", vgg.features[16:])\n",
    "        \n",
    "    def forward(self, im):\n",
    "        f1 = self.net.feature1(im)\n",
    "        f2 = self.net.feature2(f1)\n",
    "        f3 = self.net.feature3(f2)\n",
    "        f4 = self.net.feature4(f3)\n",
    "        f5 = self.net.feature5(f4)\n",
    "        return f1, f2, f3, f4, f5"
   ]
  },
  {
   "cell_type": "code",
   "execution_count": 17,
   "metadata": {},
   "outputs": [],
   "source": [
    "net = StyleNet().to(device)\n",
    "net = net.eval()\n",
    "\n",
    "mean = [0.485, 0.456, 0.406]\n",
    "std = [0.229, 0.224, 0.225]"
   ]
  },
  {
   "cell_type": "code",
   "execution_count": 18,
   "metadata": {},
   "outputs": [],
   "source": [
    "content_img = cv2.imread('./content.jpg',)\n",
    "content = cv2.resize(content_img, dsize=(224, 224), interpolation=cv2.INTER_CUBIC)[:,:,::-1] / 255\n",
    "content = (content - mean) / std\n",
    "\n",
    "#https://lonelyplanet.co.kr/magazine/articles/articleLoad/AI_00002078?page=&keyType=\n",
    "\n",
    "content_target = net(torch.FloatTensor(content).permute(2,0,1).unsqueeze(0).to(device))\n",
    "content_target = [c.detach() for c in content_target]"
   ]
  },
  {
   "cell_type": "code",
   "execution_count": 19,
   "metadata": {},
   "outputs": [],
   "source": [
    "style_img = cv2.imread('./starry-night.jpg',)\n",
    "style = cv2.resize(style_img, dsize=(224, 224), interpolation=cv2.INTER_CUBIC)[:,:,::-1] / 255\n",
    "style = (style - mean) / std\n",
    "#https://pixabay.com/illustrations/starry-night-vincent-van-gough-1093721/\n",
    "\n",
    "style_target = net(torch.FloatTensor(style).permute(2,0,1).unsqueeze(0).to(device))\n",
    "ss = []\n",
    "for s in style_target:\n",
    "    s = s.detach()\n",
    "    a,b,c,d = s.shape\n",
    "    s = s.view(a*b, c*d).contiguous()/(a*b*c*d)\n",
    "    s = s.matmul(s.T)\n",
    "    ss.append(s)\n",
    "style_target = ss"
   ]
  },
  {
   "cell_type": "code",
   "execution_count": 21,
   "metadata": {},
   "outputs": [],
   "source": [
    "img = torch.ones(content.shape).to(device)\n",
    "img.uniform_()\n",
    "img = torch.autograd.Variable(img, requires_grad=True)\n",
    "\n",
    "EPOCH = 10\n",
    "LR = 1\n",
    "alph = 1e8\n",
    "beta = 1\n",
    "opt = optim.Adam([img], LR)\n",
    "\n",
    "content_idx = 3"
   ]
  },
  {
   "cell_type": "code",
   "execution_count": null,
   "metadata": {},
   "outputs": [],
   "source": [
    "# for epoch in range(EPOCH):\n",
    "feature_map = net(torch.FloatTensor(img).permute(2,0,1).unsqueeze(0).to(device))\n",
    "#     print(epoch)\n",
    "#     style_loss = 0\n",
    "#     for s, x in zip(style_target, feature_map):\n",
    "#         a,b,c,d = x.shape\n",
    "#         x_ = x.view(a*b, c*d).contiguous()/(a*b*c*d)\n",
    "#         x_ = x_.matmul(x_.T)\n",
    "        \n",
    "#         style_loss += 1/4 * ((x_ - s) **2).mean()\n",
    "#     style_loss *= alph\n",
    "    \n",
    "#     content_loss = beta * 1/2 * ((content_target[content_idx]- feature_map[content_idx]) ** 2).mean()\n",
    "#     loss = content_loss + style_loss\n",
    "#     opt.zero_grad()\n",
    "#     loss.backward(retain_graph = True)\n",
    "#     opt.step()    \n",
    "#     print(epoch , content_loss.item(), style_loss.item())\n",
    "#     img = img.clamp(0,1)"
   ]
  }
 ],
 "metadata": {
  "kernelspec": {
   "display_name": "Python 3",
   "language": "python",
   "name": "python3"
  },
  "language_info": {
   "codemirror_mode": {
    "name": "ipython",
    "version": 3
   },
   "file_extension": ".py",
   "mimetype": "text/x-python",
   "name": "python",
   "nbconvert_exporter": "python",
   "pygments_lexer": "ipython3",
   "version": "3.6.5"
  }
 },
 "nbformat": 4,
 "nbformat_minor": 2
}
