{
 "cells": [
  {
   "cell_type": "code",
   "execution_count": 1,
   "metadata": {},
   "outputs": [],
   "source": [
    "import gym\n",
    "from utils import *"
   ]
  },
  {
   "cell_type": "code",
   "execution_count": 2,
   "metadata": {},
   "outputs": [],
   "source": [
    "import torch\n",
    "import torch.nn as nn\n",
    "import torch.optim as optim\n",
    "import torch.nn.functional as F\n",
    "import numpy as np\n",
    "\n",
    "class Actor(nn.Module):\n",
    "    def __init__(self, in_, out_, hidden_ = 256):\n",
    "        super(Actor, self).__init__()\n",
    "        self.net = nn.Sequential(\n",
    "            nn.Linear(in_, hidden_),\n",
    "            nn.ReLU(),\n",
    "            nn.Linear(hidden_, out_)\n",
    "        )\n",
    "        \n",
    "    def get_action(self, act_v):\n",
    "        act_v = F.softmax(torch.FloatTensor(act_v)).numpy()\n",
    "        return np.random.choice(len(act_v), p = act_v)\n",
    "    \n",
    "    def forward(self, x):\n",
    "        return self.net(x)"
   ]
  },
  {
   "cell_type": "code",
   "execution_count": 3,
   "metadata": {},
   "outputs": [],
   "source": [
    "LR = 0.01\n",
    "\n",
    "env = gym.make(\"CartPole-v0\")\n",
    "act_n = env.action_space.n\n",
    "obs_n = env.observation_space.shape[0]\n",
    "\n",
    "net = Actor(obs_n, act_n).cuda()\n",
    "opt = optim.Adam(net.parameters(), LR)\n",
    "loss = nn.CrossEntropyLoss()\n",
    "\n",
    "agent = Agent(env, net, None, 10, 1)"
   ]
  },
  {
   "cell_type": "code",
   "execution_count": 4,
   "metadata": {
    "scrolled": true
   },
   "outputs": [
    {
     "name": "stderr",
     "output_type": "stream",
     "text": [
      "C:\\Users\\BK\\Anaconda3\\lib\\site-packages\\ipykernel_launcher.py:17: UserWarning: Implicit dimension choice for softmax has been deprecated. Change the call to include dim=X as an argument.\n"
     ]
    },
    {
     "name": "stdout",
     "output_type": "stream",
     "text": [
      "0 17.5\n",
      "1 15.0\n",
      "2 22.5\n",
      "3 28.0\n",
      "4 30.0\n",
      "5 39.5\n",
      "6 41.5\n",
      "7 57.5\n",
      "8 70.5\n",
      "9 88.0\n",
      "10 67.0\n",
      "11 63.5\n",
      "12 54.5\n",
      "13 70.0\n",
      "14 86.0\n",
      "15 68.5\n",
      "16 94.5\n",
      "17 99.5\n",
      "18 95.5\n",
      "19 126.5\n",
      "20 105.5\n",
      "21 92.0\n",
      "22 115.5\n",
      "23 144.0\n",
      "24 141.0\n",
      "25 196.0\n",
      "26 153.0\n",
      "27 166.5\n",
      "28 196.0\n"
     ]
    },
    {
     "ename": "ValueError",
     "evalue": "not enough values to unpack (expected 7, got 0)",
     "output_type": "error",
     "traceback": [
      "\u001b[1;31m---------------------------------------------------------------------------\u001b[0m",
      "\u001b[1;31mValueError\u001b[0m                                Traceback (most recent call last)",
      "\u001b[1;32m<ipython-input-4-ce5e4f461bc4>\u001b[0m in \u001b[0;36m<module>\u001b[1;34m()\u001b[0m\n\u001b[0;32m     14\u001b[0m             \u001b[0mselected\u001b[0m\u001b[1;33m.\u001b[0m\u001b[0mappend\u001b[0m\u001b[1;33m(\u001b[0m\u001b[0mepisodes\u001b[0m\u001b[1;33m[\u001b[0m\u001b[0mi\u001b[0m\u001b[1;33m]\u001b[0m\u001b[1;33m)\u001b[0m\u001b[1;33m\u001b[0m\u001b[0m\n\u001b[0;32m     15\u001b[0m \u001b[1;33m\u001b[0m\u001b[0m\n\u001b[1;32m---> 16\u001b[1;33m     \u001b[0mobs\u001b[0m\u001b[1;33m,\u001b[0m \u001b[0mact_v\u001b[0m\u001b[1;33m,\u001b[0m \u001b[0mact\u001b[0m\u001b[1;33m,\u001b[0m \u001b[0mnext_obs\u001b[0m\u001b[1;33m,\u001b[0m \u001b[0mrew\u001b[0m\u001b[1;33m,\u001b[0m \u001b[0mdone\u001b[0m\u001b[1;33m,\u001b[0m \u001b[0m_\u001b[0m \u001b[1;33m=\u001b[0m \u001b[0mzip\u001b[0m\u001b[1;33m(\u001b[0m\u001b[1;33m*\u001b[0m\u001b[0mselected\u001b[0m\u001b[1;33m)\u001b[0m\u001b[1;33m\u001b[0m\u001b[0m\n\u001b[0m\u001b[0;32m     17\u001b[0m \u001b[1;33m\u001b[0m\u001b[0m\n\u001b[0;32m     18\u001b[0m     \u001b[0mobs_\u001b[0m \u001b[1;33m=\u001b[0m \u001b[0mtorch\u001b[0m\u001b[1;33m.\u001b[0m\u001b[0mFloatTensor\u001b[0m\u001b[1;33m(\u001b[0m\u001b[0mnp\u001b[0m\u001b[1;33m.\u001b[0m\u001b[0mconcatenate\u001b[0m\u001b[1;33m(\u001b[0m\u001b[0mobs\u001b[0m\u001b[1;33m)\u001b[0m\u001b[1;33m)\u001b[0m\u001b[1;33m.\u001b[0m\u001b[0mcuda\u001b[0m\u001b[1;33m(\u001b[0m\u001b[1;33m)\u001b[0m\u001b[1;33m\u001b[0m\u001b[0m\n",
      "\u001b[1;31mValueError\u001b[0m: not enough values to unpack (expected 7, got 0)"
     ]
    }
   ],
   "source": [
    "EPOCH = 1000\n",
    "\n",
    "for epoch in range(EPOCH):\n",
    "    episodes = []\n",
    "    for _ in range(16):\n",
    "        episodes.append(list(zip(*agent.episode(epoch))))\n",
    "        \n",
    "    rews = np.array(list(map(lambda ep: len(ep[4]), episodes)))\n",
    "    per = np.percentile(rews, 70)\n",
    "    \n",
    "    selected = []\n",
    "    for i,rew in enumerate(rews):\n",
    "        if rew>per:\n",
    "            selected.append(episodes[i])\n",
    "    \n",
    "    obs, act_v, act, next_obs, rew, done, _ = zip(*selected)\n",
    "    \n",
    "    obs_ = torch.FloatTensor(np.concatenate(obs)).cuda()\n",
    "    act_ = torch.LongTensor(np.concatenate(act)).cuda()\n",
    "    \n",
    "    act_v = net(obs_)\n",
    "    opt.zero_grad()\n",
    "    loss_ = loss(act_v, act_)\n",
    "    loss_.backward()\n",
    "    opt.step()\n",
    "    \n",
    "    rew_ = np.array(rew)\n",
    "    print(epoch, per)\n",
    "agent.reset()"
   ]
  }
 ],
 "metadata": {
  "kernelspec": {
   "display_name": "Python 3",
   "language": "python",
   "name": "python3"
  },
  "language_info": {
   "codemirror_mode": {
    "name": "ipython",
    "version": 3
   },
   "file_extension": ".py",
   "mimetype": "text/x-python",
   "name": "python",
   "nbconvert_exporter": "python",
   "pygments_lexer": "ipython3",
   "version": "3.6.5"
  }
 },
 "nbformat": 4,
 "nbformat_minor": 2
}
