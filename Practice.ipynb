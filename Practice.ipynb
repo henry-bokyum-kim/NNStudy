{
 "cells": [
  {
   "cell_type": "code",
   "execution_count": 1,
   "metadata": {},
   "outputs": [],
   "source": [
    "import gym\n",
    "from utils import *"
   ]
  },
  {
   "cell_type": "code",
   "execution_count": 2,
   "metadata": {},
   "outputs": [],
   "source": [
    "import torch\n",
    "import torch.nn as nn\n",
    "import torch.nn.functional as F\n",
    "import torch.optim as optim\n",
    "\n",
    "import math\n",
    "\n",
    "class NoiseLinear(nn.Linear):\n",
    "    def __init__(self, in_, out_, val = 0.017, bias = True):\n",
    "        super(NoiseLinear, self).__init__(in_,out_,bias)\n",
    "        self.sigma_weight = nn.Parameter(torch.full((out_, in_), val))\n",
    "        self.register_buffer(\"eps_weight\", torch.zeros(out_, in_))\n",
    "        if bias:\n",
    "            self.sigma_bias = nn.Parameter(torch.full((out_,), val))\n",
    "            self.register_buffer(\"eps_bias\", torch.zeros(out_))\n",
    "        self.reset_parameters()\n",
    "\n",
    "    def reset_parameters(self):\n",
    "        std = math.sqrt(1 / self.in_features)\n",
    "        self.weight.data.uniform_(-std, std)\n",
    "        self.bias.data.uniform_(-std, std)\n",
    "        \n",
    "    def forward(self, x):\n",
    "        self.eps_weight.normal_()\n",
    "        bias = self.bias\n",
    "        if bias is not None:\n",
    "            self.eps_bias.normal_()\n",
    "            bias = bias + self.sigma_bias * self.eps_bias.data\n",
    "        return F.linear(x, self.weight + self.sigma_weight * self.eps_weight, bias)\n",
    "\n",
    "class Actor(nn.Module):\n",
    "    def __init__(self, in_, out_, hidden=512):\n",
    "        super(Actor, self).__init__()\n",
    "        self.net=nn.Sequential(\n",
    "            NoiseLinear(in_, hidden),\n",
    "            nn.ReLU(),\n",
    "            NoiseLinear(hidden, int(hidden/2)),\n",
    "            nn.ReLU(),\n",
    "            NoiseLinear(int(hidden/2), out_),\n",
    "            nn.Tanh()\n",
    "        )\n",
    "        \n",
    "    def get_action(self, act_v):\n",
    "        if random.random()< 0.05:\n",
    "            return np.random.normal(scale=np.abs(act_v).max(), size =len(act_v))\n",
    "        return act_v\n",
    "    \n",
    "    def forward(self, x):\n",
    "        return self.net(x)\n",
    "        \n",
    "class Critic(nn.Module):\n",
    "    def __init__(self, in_, out_, hidden=512):\n",
    "        super(Critic, self).__init__()\n",
    "        \n",
    "        self.value = nn.Sequential(\n",
    "            nn.Linear(in_,hidden),\n",
    "            nn.ReLU(),\n",
    "        )\n",
    "        self.value_out = nn.Sequential(\n",
    "            nn.Linear(hidden + out_, int(hidden/2)),\n",
    "            nn.ReLU(),\n",
    "            nn.Linear(int(hidden/2), 1)\n",
    "        )\n",
    "    \n",
    "    def forward(self, obs, act):\n",
    "        return self.value_out(torch.cat([self.value(obs), act], dim=1))"
   ]
  },
  {
   "cell_type": "code",
   "execution_count": 3,
   "metadata": {},
   "outputs": [],
   "source": [
    "env = gym.make(\"Pendulum-v0\")\n",
    "act_n = env.action_space.shape[0]\n",
    "obs_n = env.observation_space.shape[0]\n",
    "\n",
    "ACTOR_LR = 0.00002\n",
    "CRITIC_LR = 0.0001\n",
    "GAMMA = 0.99\n",
    "TAU = 0.05\n",
    "\n",
    "actor = Actor(obs_n, act_n).cuda()\n",
    "actor_tgt = Actor(obs_n, act_n).cuda()\n",
    "actor_tgt.load_state_dict(actor.state_dict())\n",
    "actor_opt = optim.Adam(actor.parameters(), ACTOR_LR)\n",
    "\n",
    "critic = Critic(obs_n, act_n).cuda()\n",
    "critic_tgt = Critic(obs_n, act_n).cuda()\n",
    "critic_tgt.load_state_dict(critic.state_dict())\n",
    "critic_opt = optim.Adam(critic.parameters(), CRITIC_LR)\n",
    "\n",
    "ST_SIZE = 100000\n",
    "ST_INIT = 10000\n",
    "BATCH = 512\n",
    "\n",
    "noise = NoiseMaker(act_n, \"ou\", decay = True)\n",
    "noise.param[\"decay\"] = ST_SIZE\n",
    "\n",
    "agent = Agent(env, actor, noise, 50, 1)\n",
    "agent.set_n_step(2, GAMMA)\n",
    "\n",
    "storage = Replay(ST_SIZE, prio=True)"
   ]
  },
  {
   "cell_type": "code",
   "execution_count": 10,
   "metadata": {
    "scrolled": true
   },
   "outputs": [
    {
     "name": "stdout",
     "output_type": "stream",
     "text": [
      "0 200\n",
      "1 200\n"
     ]
    },
    {
     "ename": "KeyboardInterrupt",
     "evalue": "",
     "output_type": "error",
     "traceback": [
      "\u001b[1;31m---------------------------------------------------------------------------\u001b[0m",
      "\u001b[1;31mKeyboardInterrupt\u001b[0m                         Traceback (most recent call last)",
      "\u001b[1;32m<ipython-input-10-fc5c90eccab4>\u001b[0m in \u001b[0;36m<module>\u001b[1;34m()\u001b[0m\n\u001b[0;32m      7\u001b[0m             \u001b[1;32mcontinue\u001b[0m\u001b[1;33m\u001b[0m\u001b[0m\n\u001b[0;32m      8\u001b[0m \u001b[1;33m\u001b[0m\u001b[0m\n\u001b[1;32m----> 9\u001b[1;33m         \u001b[0msample\u001b[0m\u001b[1;33m,\u001b[0m \u001b[0mindices\u001b[0m\u001b[1;33m,\u001b[0m \u001b[0mweights\u001b[0m \u001b[1;33m=\u001b[0m \u001b[0mstorage\u001b[0m\u001b[1;33m.\u001b[0m\u001b[0msample\u001b[0m\u001b[1;33m(\u001b[0m\u001b[0mBATCH\u001b[0m\u001b[1;33m)\u001b[0m\u001b[1;33m\u001b[0m\u001b[0m\n\u001b[0m\u001b[0;32m     10\u001b[0m         \u001b[0mweights_\u001b[0m \u001b[1;33m=\u001b[0m \u001b[0mtorch\u001b[0m\u001b[1;33m.\u001b[0m\u001b[0mFloatTensor\u001b[0m\u001b[1;33m(\u001b[0m\u001b[0mweights\u001b[0m\u001b[1;33m)\u001b[0m\u001b[1;33m.\u001b[0m\u001b[0munsqueeze\u001b[0m\u001b[1;33m(\u001b[0m\u001b[1;36m1\u001b[0m\u001b[1;33m)\u001b[0m\u001b[1;33m.\u001b[0m\u001b[0mcuda\u001b[0m\u001b[1;33m(\u001b[0m\u001b[1;33m)\u001b[0m\u001b[1;33m\u001b[0m\u001b[0m\n\u001b[0;32m     11\u001b[0m         \u001b[0mobs\u001b[0m\u001b[1;33m,\u001b[0m \u001b[0mact_v\u001b[0m\u001b[1;33m,\u001b[0m \u001b[0mact\u001b[0m\u001b[1;33m,\u001b[0m \u001b[0mnext_obs\u001b[0m\u001b[1;33m,\u001b[0m \u001b[0mrew\u001b[0m\u001b[1;33m,\u001b[0m \u001b[0mdone\u001b[0m\u001b[1;33m,\u001b[0m \u001b[0metc\u001b[0m\u001b[1;33m,\u001b[0m \u001b[0munroll_n\u001b[0m \u001b[1;33m=\u001b[0m \u001b[0mlist\u001b[0m\u001b[1;33m(\u001b[0m\u001b[0mzip\u001b[0m\u001b[1;33m(\u001b[0m\u001b[1;33m*\u001b[0m\u001b[0msample\u001b[0m\u001b[1;33m)\u001b[0m\u001b[1;33m)\u001b[0m\u001b[1;33m\u001b[0m\u001b[0m\n",
      "\u001b[1;32mD:\\BK\\git\\NN\\utils.py\u001b[0m in \u001b[0;36msample\u001b[1;34m(self, size)\u001b[0m\n\u001b[0;32m    160\u001b[0m         \u001b[1;32mif\u001b[0m \u001b[0mself\u001b[0m\u001b[1;33m.\u001b[0m\u001b[0mprio\u001b[0m\u001b[1;33m:\u001b[0m\u001b[1;33m\u001b[0m\u001b[0m\n\u001b[0;32m    161\u001b[0m             \u001b[0mprobs\u001b[0m \u001b[1;33m=\u001b[0m \u001b[0mnp\u001b[0m\u001b[1;33m.\u001b[0m\u001b[0marray\u001b[0m\u001b[1;33m(\u001b[0m\u001b[0mself\u001b[0m\u001b[1;33m.\u001b[0m\u001b[0mpriorities\u001b[0m\u001b[1;33m,\u001b[0m \u001b[0mdtype\u001b[0m\u001b[1;33m=\u001b[0m\u001b[0mnp\u001b[0m\u001b[1;33m.\u001b[0m\u001b[0mfloat32\u001b[0m\u001b[1;33m)\u001b[0m\u001b[1;33m\u001b[0m\u001b[0m\n\u001b[1;32m--> 162\u001b[1;33m             \u001b[0mmin_prio\u001b[0m \u001b[1;33m=\u001b[0m \u001b[0mnp\u001b[0m\u001b[1;33m.\u001b[0m\u001b[0marray\u001b[0m\u001b[1;33m(\u001b[0m\u001b[0mself\u001b[0m\u001b[1;33m.\u001b[0m\u001b[0mpriorities\u001b[0m\u001b[1;33m)\u001b[0m\u001b[1;33m.\u001b[0m\u001b[0mmin\u001b[0m\u001b[1;33m(\u001b[0m\u001b[1;33m)\u001b[0m\u001b[1;33m\u001b[0m\u001b[0m\n\u001b[0m\u001b[0;32m    163\u001b[0m             \u001b[1;32mif\u001b[0m \u001b[0mmin_prio\u001b[0m \u001b[1;33m<\u001b[0m \u001b[1;36m1\u001b[0m\u001b[1;33m:\u001b[0m\u001b[1;33m\u001b[0m\u001b[0m\n\u001b[0;32m    164\u001b[0m                 \u001b[0mprobs\u001b[0m \u001b[1;33m/=\u001b[0m \u001b[0mmin_prio\u001b[0m\u001b[1;33m\u001b[0m\u001b[0m\n",
      "\u001b[1;31mKeyboardInterrupt\u001b[0m: "
     ]
    }
   ],
   "source": [
    "EPOCH = 5000\n",
    "\n",
    "for epoch in range(EPOCH):\n",
    "    for i, step in enumerate(agent.episode(epoch)):\n",
    "        storage.push(step)\n",
    "        if len(storage) < ST_INIT:\n",
    "            continue\n",
    "        \n",
    "        sample, indices, weights = storage.sample(BATCH)\n",
    "        weights_ = torch.FloatTensor(weights).unsqueeze(1).cuda()\n",
    "        obs, act_v, act, next_obs, rew, done, etc, unroll_n = list(zip(*sample))\n",
    "        \n",
    "        obs_ = torch.FloatTensor(obs).cuda()\n",
    "        act_v_ = torch.FloatTensor(act_v).cuda()\n",
    "        act_ = torch.LongTensor(act).unsqueeze(1).cuda()\n",
    "        next_obs_ = torch.FloatTensor(next_obs).cuda()\n",
    "        rew_ = torch.FloatTensor(rew).unsqueeze(1).cuda()\n",
    "        done_ = torch.BoolTensor(done).cuda()\n",
    "        unroll_n_ = torch.FloatTensor(unroll_n).unsqueeze(1).cuda()\n",
    "        \n",
    "        #Critic\n",
    "        critic_opt.zero_grad()\n",
    "        \n",
    "        q_pred = critic(obs_, act_v_)\n",
    "        \n",
    "        next_action_v = actor_tgt(next_obs_)\n",
    "        q_next = critic_tgt(next_obs_, next_action_v)\n",
    "        q_next[done_] = 0\n",
    "        q_target = rew_ + (GAMMA**unroll_n_) * q_next.detach()\n",
    "        \n",
    "        critic_loss = weights_ * (q_pred - q_target) ** 2\n",
    "        critic_loss_mean = critic_loss.mean()\n",
    "        critic_loss_mean.backward()\n",
    "        \n",
    "        critic_opt.step()\n",
    "        \n",
    "        #Actor\n",
    "        actor_opt.zero_grad()\n",
    "        \n",
    "        actor_loss = -weights_ * critic(obs_, actor(obs_))\n",
    "        actor_loss_mean = actor_loss.mean()\n",
    "        actor_loss_mean.backward()\n",
    "        \n",
    "        actor_opt.step()\n",
    "        \n",
    "        #Target Update\n",
    "        for off, tgt in zip(actor.parameters(), actor_tgt.parameters()):\n",
    "            tgt.data.copy_(off.data*TAU + tgt.data*(1-TAU))\n",
    "        for off, tgt in zip(critic.parameters(), critic_tgt.parameters()):\n",
    "            tgt.data.copy_(off.data*TAU + tgt.data*(1-TAU))\n",
    "            \n",
    "        storage.update_priorities(indices, critic_loss.sum(1).cpu().data.numpy())\n",
    "            \n",
    "    print(epoch, i+1)"
   ]
  },
  {
   "cell_type": "code",
   "execution_count": 12,
   "metadata": {},
   "outputs": [
    {
     "data": {
      "text/plain": [
       "48537"
      ]
     },
     "execution_count": 12,
     "metadata": {},
     "output_type": "execute_result"
    }
   ],
   "source": [
    "noise.count"
   ]
  }
 ],
 "metadata": {
  "kernelspec": {
   "display_name": "Python 3",
   "language": "python",
   "name": "python3"
  },
  "language_info": {
   "codemirror_mode": {
    "name": "ipython",
    "version": 3
   },
   "file_extension": ".py",
   "mimetype": "text/x-python",
   "name": "python",
   "nbconvert_exporter": "python",
   "pygments_lexer": "ipython3",
   "version": "3.6.5"
  }
 },
 "nbformat": 4,
 "nbformat_minor": 2
}
