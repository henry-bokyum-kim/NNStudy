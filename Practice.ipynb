{
 "cells": [
  {
   "cell_type": "code",
   "execution_count": 1,
   "metadata": {},
   "outputs": [],
   "source": [
    "import gym\n",
    "from utils import *"
   ]
  },
  {
   "cell_type": "code",
   "execution_count": 2,
   "metadata": {},
   "outputs": [],
   "source": [
    "import torch\n",
    "import torch.nn as nn\n",
    "import torch.nn.functional as F\n",
    "import torch.optim as optim"
   ]
  },
  {
   "cell_type": "code",
   "execution_count": 8,
   "metadata": {},
   "outputs": [],
   "source": [
    "class Net(nn.Module):\n",
    "    def __init__(self, act_n, shape, hidden = 512):\n",
    "        super(Net, self).__init__()\n",
    "        cnn_out_channel = 64\n",
    "        self.cnn = nn.Sequential(\n",
    "            nn.Conv2d(3, 32, 4, 2, 1),\n",
    "            nn.ReLU(),\n",
    "            nn.Conv2d(32, 64, 4, 2, 1),\n",
    "            nn.ReLU(),\n",
    "            nn.Conv2d(64, cnn_out_channel, 4, 2, 1),\n",
    "            nn.ReLU()\n",
    "        )\n",
    "        \n",
    "        w = self.get_conv_out_size(shape[1])\n",
    "        h = self.get_conv_out_size(shape[2])\n",
    "        self.cnn_out = w*h*cnn_out_channel\n",
    "        \n",
    "        self.actor = nn.Sequential(\n",
    "            nn.Linear(self.cnn_out, hidden),\n",
    "            nn.ReLU(),\n",
    "            nn.Linear(hidden, int(hidden/2)),\n",
    "            nn.ReLU(),\n",
    "            nn.Linear(int(hidden/2), act_n),\n",
    "            nn.Tanh()\n",
    "        )\n",
    "        \n",
    "        self.critic = nn.Sequential(\n",
    "            nn.Linear(self.cnn_out, hidden),\n",
    "            nn.ReLU(),\n",
    "        )\n",
    "        self.critic_out = nn.Sequential(\n",
    "            nn.Linear(hidden + act_n, int(hidden/2)),\n",
    "            nn.ReLU(),\n",
    "            nn.Linear(int(hidden/2), 1)\n",
    "        )\n",
    "    \n",
    "    def to(self, device):\n",
    "        self.device = device\n",
    "        return super(Net,self).to(device)\n",
    "        \n",
    "    def convert_input(self, x):\n",
    "        return x[165:330,200:400].transpose(2,0,1)\n",
    "        \n",
    "    def convert_to_action(self, act_v):\n",
    "        return act_v.argmax()\n",
    "        \n",
    "    def get_conv_out_size(self, value):\n",
    "        return int(int(int(value/2)/2)/2)\n",
    "    \n",
    "    def forward(self, x, act_v=None):\n",
    "        x = torch.FloatTensor(x).to(self.device)\n",
    "        cnn_out = self.cnn(x).view(-1,self.cnn_out)\n",
    "        if act_v is None:\n",
    "            return self.actor(cnn_out)\n",
    "        else:\n",
    "            return self.critic_out(torch.cat([self.critic(cnn_out), act_v]))"
   ]
  },
  {
   "cell_type": "code",
   "execution_count": 9,
   "metadata": {},
   "outputs": [],
   "source": [
    "env = gym.make(\"CartPole-v0\")\n",
    "act_n = env.action_space.n\n",
    "obs_n = env.observation_space.shape[0]\n",
    "\n",
    "env.reset()\n",
    "r = (env.render(\"rgb_array\")[165:330,200:400].transpose(2,0,1))\n",
    "env.close()"
   ]
  },
  {
   "cell_type": "code",
   "execution_count": 10,
   "metadata": {},
   "outputs": [],
   "source": [
    "import matplotlib.pyplot as plt"
   ]
  },
  {
   "cell_type": "code",
   "execution_count": 11,
   "metadata": {},
   "outputs": [
    {
     "data": {
      "text/plain": [
       "<matplotlib.image.AxesImage at 0x2c43c6c33c8>"
      ]
     },
     "execution_count": 11,
     "metadata": {},
     "output_type": "execute_result"
    },
    {
     "data": {
      "image/png": "[encoded data removed]",
      "text/plain": [
       "<Figure size 432x288 with 1 Axes>"
      ]
     },
     "metadata": {},
     "output_type": "display_data"
    }
   ],
   "source": [
    "plt.imshow(r.transpose(1,2,0))"
   ]
  },
  {
   "cell_type": "code",
   "execution_count": 12,
   "metadata": {},
   "outputs": [],
   "source": [
    "LR = 0.001\n",
    "\n",
    "device = \"cuda\" if torch.cuda.is_available() else \"cpu\"\n",
    "\n",
    "net= Net(act_n, r.shape).to(device)\n",
    "net_tgt = targetNet(net)\n",
    "opt = optim.Adam(net.parameters(), LR)"
   ]
  },
  {
   "cell_type": "code",
   "execution_count": null,
   "metadata": {},
   "outputs": [],
   "source": [
    "GAMMA = 0.99\n",
    "\n",
    "noise = NoiseMaker(act_n, \"normal\", decay = True)\n",
    "agent = Agent(env, net, noise, 500)\n",
    "agent.prepare(2, GAMMA, True)\n",
    "\n",
    "ST_SIZE = 10000\n",
    "ST_INIT = 5\n",
    "ST_DECAY = 1000\n",
    "ST_BATCH = 32\n",
    "storage = Replay(ST_INIT, ST_SIZE, True)"
   ]
  },
  {
   "cell_type": "code",
   "execution_count": null,
   "metadata": {},
   "outputs": [],
   "source": [
    "import time\n",
    "EPOCH = 2\n",
    "for epoch in range(EPOCH):\n",
    "    for step in agent.episode(epoch):\n",
    "        storage.push(step)\n",
    "        if not storage.is_ready():\n",
    "            continue\n",
    "        \n",
    "        sample, indices, weights = storage.sample(ST_BATCH)\n",
    "        weights_ = torch.FloatTensor(weights).to(device)\n",
    "        obs, act_v, noise_v, act, next_obs, rew, done, etc, unroll_n = list(zip(*sample))\n",
    "        \n",
    "        obs_ = torch.FloatTensor(obs).to(device)\n",
    "        act_v_ = torch.FloatTensor(act_v).to(device)\n",
    "        noise_v_ = torch.FloatTensor(noise_v).to(device)\n",
    "        act_ = torch.LongTensor(act).unsqueeze(1).to(device)\n",
    "        next_obs_ = torch.FloatTensor(next_obs).to(device)\n",
    "        rew_ = torch.FloatTensor(rew).unsqueeze(1).to(device)\n",
    "        done_ = torch.BoolTensor(done).to(device)\n",
    "        unroll_n_ = torch.FloatTensor(unroll_n).unsqueeze(1).to(device)\n",
    "\n",
    "        #critic\n",
    "        opt.zero_grad()\n",
    "        q_pred = net(obs_, noise_v_)\n",
    "        \n",
    "        q_next = targetNet(next_obs_, targetNet(next_obs_))\n",
    "        q_next[done] = 0.\n",
    "        q_target = rew_ + (GAMMA ** unroll_n_) * q_next.detach()\n",
    "        \n",
    "        q_loss = weight_ * (q_next - q_target) ** 2\n",
    "        q_loss.mean().backward()\n",
    "        opt.step()\n",
    "        \n",
    "        storage.update_priorities(indices, q_loss.detach().cpu().numpy())\n",
    "        \n",
    "        #actor\n",
    "        st_decay = torch.exp_(-torch.FloatTensor(len(storage)-indices)/ST_DECAY).unsqueeze(1).to(device)\n",
    "        act_avg = net(obs_).detach() * (1-st_decay) + act_v_ * st_decay\n",
    "        q_v = -net(obs_, act_avg)\n",
    "\n",
    "        actor_loss = q_v.mean()\n",
    "        actor_loss.backward()\n",
    "        actor_optim.step()\n",
    "        \n",
    "        #target_update\n",
    "        targetNet.alpha_update()"
   ]
  }
 ],
 "metadata": {
  "kernelspec": {
   "display_name": "Python 3",
   "language": "python",
   "name": "python3"
  },
  "language_info": {
   "codemirror_mode": {
    "name": "ipython",
    "version": 3
   },
   "file_extension": ".py",
   "mimetype": "text/x-python",
   "name": "python",
   "nbconvert_exporter": "python",
   "pygments_lexer": "ipython3",
   "version": "3.6.5"
  }
 },
 "nbformat": 4,
 "nbformat_minor": 2
}
