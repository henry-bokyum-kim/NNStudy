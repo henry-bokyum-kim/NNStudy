{
 "cells": [
  {
   "cell_type": "code",
   "execution_count": 1,
   "metadata": {},
   "outputs": [],
   "source": [
    "import gym\n",
    "import numpy as np\n",
    "import random\n",
    "\n",
    "eps = 1\n",
    "gamma = 0.95\n",
    "lr = 0.4\n",
    "cleared = 0\n",
    "epoch = 2000\n",
    "use_noise = False"
   ]
  },
  {
   "cell_type": "code",
   "execution_count": 2,
   "metadata": {},
   "outputs": [],
   "source": [
    "def getRandomMaxAction(q):\n",
    "    index = (q==q.max()).nonzero()[0]\n",
    "    return np.random.choice(index)"
   ]
  },
  {
   "cell_type": "markdown",
   "metadata": {},
   "source": [
    "###### Q-Learning with learning-rate."
   ]
  },
  {
   "cell_type": "code",
   "execution_count": 69,
   "metadata": {
    "scrolled": true
   },
   "outputs": [
    {
     "name": "stdout",
     "output_type": "stream",
     "text": [
      "Cleared Rate = 0.5880\n"
     ]
    }
   ],
   "source": [
    "env = gym.make(\"FrozenLake-v0\")\n",
    "Q = np.zeros((obs_size,action_size))\n",
    "\n",
    "action_size = env.action_space.n\n",
    "obs_size = env.observation_space.n\n",
    "\n",
    "\n",
    "for i in range(2000):\n",
    "    obs = env.reset()\n",
    "    while True:\n",
    "        if use_noise:\n",
    "            action = getRandomMaxAction(Q[obs]+np.random.randn(4)/(cleared+1))\n",
    "        else:\n",
    "            if random.random() < eps/(cleared+1):\n",
    "                action = env.action_space.sample()\n",
    "            else:\n",
    "                action = getRandomMaxAction(Q[obs])\n",
    "        next_obs, rew, done, etc = env.step(action)\n",
    "        \n",
    "        if next_obs != obs:\n",
    "            Q[obs, action] = (1-lr) * Q[obs,action] + lr*(rew + gamma * Q[next_obs].max())\n",
    "        \n",
    "        if done:\n",
    "            break\n",
    "        obs = next_obs\n",
    "\n",
    "    if rew == 1:\n",
    "        cleared +=1\n",
    "print(\"Cleared Rate = %.4f\"%(cleared/epoch))"
   ]
  },
  {
   "cell_type": "markdown",
   "metadata": {},
   "source": [
    "###### Q-Network"
   ]
  },
  {
   "cell_type": "code",
   "execution_count": 3,
   "metadata": {
    "scrolled": true
   },
   "outputs": [],
   "source": [
    "import torch\n",
    "import torch.nn as nn\n",
    "import torch.optim as optim"
   ]
  },
  {
   "cell_type": "code",
   "execution_count": 48,
   "metadata": {},
   "outputs": [],
   "source": [
    "class Net(nn.Module):\n",
    "    def __init__(self, in_size, hidden_size, out_size):\n",
    "        super(Net, self).__init__()\n",
    "        self.net = nn.Sequential(\n",
    "            nn.Linear(in_size, out_size),\n",
    "        )\n",
    "    def forward(self, x):\n",
    "        return self.net(x)"
   ]
  },
  {
   "cell_type": "code",
   "execution_count": 50,
   "metadata": {},
   "outputs": [],
   "source": [
    "def getOneHot(idx, size):\n",
    "    x = np.zeros((1,size))\n",
    "    x[0,idx] = 1\n",
    "    return torch.FloatTensor(x)\n",
    "\n",
    "def init_normal(m):\n",
    "        if type(m) == nn.Linear:\n",
    "            nn.init.normal_(m.weight,0,0.01)"
   ]
  },
  {
   "cell_type": "code",
   "execution_count": 59,
   "metadata": {
    "scrolled": true
   },
   "outputs": [
    {
     "name": "stdout",
     "output_type": "stream",
     "text": [
      "!!!!!!!!!!\n",
      "Cleared Rate = 0.0270\n"
     ]
    }
   ],
   "source": [
    "env = gym.make(\"FrozenLake-v0\")\n",
    "\n",
    "action_size = env.action_space.n\n",
    "obs_size = env.observation_space.n\n",
    "hidden_size = 64\n",
    "\n",
    "QNet = Net(obs_size, hidden_size, action_size)\n",
    "QNet.apply(init_normal)\n",
    "loss = nn.MSELoss(reduction=\"sum\")\n",
    "opt = optim.Adam(QNet.parameters(), lr = 0.1)\n",
    "cleared = 0\n",
    "eps= 0.1\n",
    "\n",
    "for i in range(epoch):\n",
    "    obs = env.reset()\n",
    "    while True:\n",
    "        opt.zero_grad()\n",
    "        Q = QNet(getOneHot(obs, obs_size))\n",
    "        if random.random()< eps/(cleared+1):\n",
    "            action = env.action_space.sample()\n",
    "        else:\n",
    "            action = Q.data.numpy().argmax()\n",
    "        \n",
    "        next_obs, rew, done, etc = env.step(action)\n",
    "        \n",
    "        if next_obs != obs:\n",
    "            Y=Q.clone().detach()\n",
    "            if done:\n",
    "                Y[0, action] = rew\n",
    "                break\n",
    "            else:\n",
    "                Y[0, action] = rew + gamma * QNet(getOneHot(next_obs, obs_size).detach()).data.numpy().max()\n",
    "            loss_ = loss(Q, Y)\n",
    "            loss_.backward(retain_graph=True)\n",
    "            opt.step()    \n",
    "        obs = next_obs\n",
    "        \n",
    "        if done:\n",
    "            break\n",
    "    if rew == 1:\n",
    "        cleared +=1\n",
    "    if i%(epoch/10) == 0:\n",
    "        print(\"!\",end=\"\")\n",
    "print()\n",
    "print(\"Cleared Rate = %.4f\"%(cleared/epoch))"
   ]
  },
  {
   "cell_type": "code",
   "execution_count": 84,
   "metadata": {},
   "outputs": [
    {
     "name": "stdout",
     "output_type": "stream",
     "text": [
      "Best reward updated 0.000 -> 0.150\n",
      "Best reward updated 0.150 -> 0.200\n",
      "Best reward updated 0.200 -> 0.250\n",
      "Best reward updated 0.250 -> 0.350\n",
      "Best reward updated 0.350 -> 0.400\n",
      "Best reward updated 0.400 -> 0.500\n",
      "Best reward updated 0.500 -> 0.650\n",
      "Best reward updated 0.650 -> 0.700\n",
      "Best reward updated 0.700 -> 0.750\n",
      "Best reward updated 0.750 -> 0.800\n",
      "Best reward updated 0.800 -> 0.850\n",
      "Solved in 6538 iterations!\n"
     ]
    }
   ],
   "source": [
    "import gym\n",
    "import collections\n",
    "\n",
    "ENV_NAME = \"FrozenLake-v0\"\n",
    "GAMMA = 0.9\n",
    "ALPHA = 0.2\n",
    "TEST_EPISODES = 20\n",
    "\n",
    "\n",
    "class Agent:\n",
    "    def __init__(self):\n",
    "        self.env = gym.make(ENV_NAME)\n",
    "        self.state = self.env.reset()\n",
    "        self.values = collections.defaultdict(float)\n",
    "\n",
    "    def sample_env(self):\n",
    "        action = self.env.action_space.sample()\n",
    "        old_state = self.state\n",
    "        new_state, reward, is_done, _ = self.env.step(action)\n",
    "        self.state = self.env.reset() if is_done else new_state\n",
    "        return (old_state, action, reward, new_state)\n",
    "\n",
    "    def best_value_and_action(self, state):\n",
    "        best_value, best_action = None, None\n",
    "        for action in range(self.env.action_space.n):\n",
    "            action_value = self.values[(state, action)]\n",
    "            if best_value is None or best_value < action_value:\n",
    "                best_value = action_value\n",
    "                best_action = action\n",
    "        return best_value, best_action\n",
    "\n",
    "    def value_update(self, s, a, r, next_s):\n",
    "        best_v, _ = self.best_value_and_action(next_s)\n",
    "        new_val = r + GAMMA * best_v\n",
    "        old_val = self.values[(s, a)]\n",
    "        self.values[(s, a)] = old_val * (1-ALPHA) + new_val * ALPHA\n",
    "\n",
    "    def play_episode(self, env):\n",
    "        total_reward = 0.0\n",
    "        state = env.reset()\n",
    "        while True:\n",
    "            _, action = self.best_value_and_action(state)\n",
    "            new_state, reward, is_done, _ = env.step(action)\n",
    "            total_reward += reward\n",
    "            if is_done:\n",
    "                break\n",
    "            state = new_state\n",
    "        return total_reward\n",
    "\n",
    "\n",
    "if __name__ == \"__main__\":\n",
    "    test_env = gym.make(ENV_NAME)\n",
    "    agent = Agent()\n",
    "\n",
    "    iter_no = 0\n",
    "    best_reward = 0.0\n",
    "    while True:\n",
    "        iter_no += 1\n",
    "        s, a, r, next_s = agent.sample_env()\n",
    "        agent.value_update(s, a, r, next_s)\n",
    "\n",
    "        reward = 0.0\n",
    "        for _ in range(TEST_EPISODES):\n",
    "            reward += agent.play_episode(test_env)\n",
    "        reward /= TEST_EPISODES\n",
    "        if reward > best_reward:\n",
    "            print(\"Best reward updated %.3f -> %.3f\" % (best_reward, reward))\n",
    "            best_reward = reward\n",
    "        if reward > 0.80:\n",
    "            print(\"Solved in %d iterations!\" % iter_no)\n",
    "            break"
   ]
  }
 ],
 "metadata": {
  "kernelspec": {
   "display_name": "Python 3",
   "language": "python",
   "name": "python3"
  },
  "language_info": {
   "codemirror_mode": {
    "name": "ipython",
    "version": 3
   },
   "file_extension": ".py",
   "mimetype": "text/x-python",
   "name": "python",
   "nbconvert_exporter": "python",
   "pygments_lexer": "ipython3",
   "version": "3.6.5"
  }
 },
 "nbformat": 4,
 "nbformat_minor": 2
}
