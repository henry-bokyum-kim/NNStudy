{
 "cells": [
  {
   "cell_type": "markdown",
   "metadata": {
    "colab_type": "text",
    "id": "view-in-github"
   },
   "source": [
    "<a href=\"https://colab.research.google.com/github/henry-bokyum-kim/NNStudy/blob/master/GymDisplay.ipynb\" target=\"_parent\"><img src=\"https://colab.research.google.com/assets/colab-badge.svg\" alt=\"Open In Colab\"/></a>"
   ]
  },
  {
   "cell_type": "markdown",
   "metadata": {
    "colab": {},
    "colab_type": "code",
    "id": "fOGHxbyy6_rq"
   },
   "source": [
    "# Turn on virtual display"
   ]
  },
  {
   "cell_type": "code",
   "execution_count": 0,
   "metadata": {
    "colab": {},
    "colab_type": "code",
    "id": "fOGHxbyy6_rq"
   },
   "outputs": [],
   "source": [
    "!pip install gym pyvirtualdisplay > /dev/null 2>&1\n",
    "!apt-get install -y xvfb python-opengl ffmpeg > /dev/null 2>&1\n",
    "!apt-get install x11-utils\n",
    "\n",
    "from pyvirtualdisplay import Display\n",
    "from IPython import display as ipythondisplay\n",
    "\n",
    "v_display = Display(visible=0, size=(1400,900),)\n",
    "v_display.start()"
   ]
  },
  {
   "cell_type": "markdown",
   "metadata": {},
   "source": [
    "# Show frame using HTML player"
   ]
  },
  {
   "cell_type": "code",
   "execution_count": 1,
   "metadata": {},
   "outputs": [],
   "source": [
    "!pip install JSAnimation\n",
    "from matplotlib import animation\n",
    "from JSAnimation.IPython_display import display_animation\n",
    "from IPython.display import display\n",
    "from IPython.display import HTML\n",
    "import matplotlib.pyplot as plt\n",
    "\n",
    "# Imports specifically so we can render outputs in Colab.\n",
    "def display_frames_as_gif(frame, intv=30):\n",
    "    \"\"\"Displays a list of frames as a gif, with controls.\"\"\"\n",
    "    fig = plt.figure()\n",
    "    patch = plt.imshow(frame[0].astype(int))\n",
    "    def animate(i):\n",
    "        patch.set_data(frame[i].astype(int))\n",
    "    anim = animation.FuncAnimation(\n",
    "        fig, animate, frames=len(frame), interval=intv, blit=False\n",
    "    )\n",
    "    #display(display_animation(anim, default_mode='loop'))\n",
    "    # Set up formatting for the movie files\n",
    "    display(HTML(data=anim.to_html5_video()))\n",
    "    #FFwriter = animation.FFMpegWriter()\n",
    "    #anim.save('basic_animation.mp4', writer = FFwriter)\n",
    "    #show_video()\n",
    "# display \n",
    "\n",
    "display_frames_as_gif(frame)"
   ]
  },
  {
   "cell_type": "markdown",
   "metadata": {},
   "source": [
    "# Show frame using gym.Monitor"
   ]
  },
  {
   "cell_type": "code",
   "execution_count": 5,
   "metadata": {
    "colab": {},
    "colab_type": "code",
    "id": "XFLMtaRV7fdC"
   },
   "outputs": [],
   "source": [
    "def show_video():\n",
    "    mp4list = glob.glob('video/*.mp4')\n",
    "    if len(mp4list) > 0:\n",
    "        for mp4 in mp4list:\n",
    "            video = io.open(mp4, 'r+b').read()\n",
    "            print(mp4)\n",
    "            encoded = base64.b64encode(video)\n",
    "            ipythondisplay.display(HTML(data='''<video alt=\"test\" autoplay loop controls style=\"height: 300px;\">\n",
    "                                      <source src=\"data:video/mp4;base64,{0}\" type=\"video/mp4\"/>\n",
    "                                      </video>'''.format(encoded.decode('ascii'))))\n",
    "    else:\n",
    "        print(\"Could not find video\")"
   ]
  },
  {
   "cell_type": "markdown",
   "metadata": {},
   "source": [
    "# Replay Memory"
   ]
  },
  {
   "cell_type": "code",
   "execution_count": 14,
   "metadata": {},
   "outputs": [],
   "source": [
    "import collections\n",
    "step_data = collections.namedtuple(\"step\", (\"state\", \"action_value\", \"action\", \"next_state\", \"reward\", \"done\"))\n",
    "\n",
    "class Replay:\n",
    "    def __init__(self, size):\n",
    "        self.memory = collections.deque(maxlen = size)\n",
    "        \n",
    "    def push(self, data):\n",
    "        self.memory.append(data)\n",
    "        \n",
    "    def prepare(self, env):\n",
    "        pass\n",
    "        \n",
    "    def sample(self, size):\n",
    "        if len(self.memory) >= size:\n",
    "            return random.sample(self.memory, size)"
   ]
  },
  {
   "cell_type": "markdown",
   "metadata": {},
   "source": [
    "# Agent"
   ]
  },
  {
   "cell_type": "code",
   "execution_count": 13,
   "metadata": {},
   "outputs": [],
   "source": [
    "import gym\n",
    "import torch\n",
    "from collections import namedtuple\n",
    "\n",
    "class Agent:\n",
    "    def __init__(self, env, actor, noise, rend_wait = -1, rend_interval = -1 \\\n",
    "                 , frame = None, max_step = None, device = None):\n",
    "        self.env = env\n",
    "        if max_step is not None:\n",
    "            self.env._max_episode_steps = max_step\n",
    "        if device is None:\n",
    "            device = torch.device(\"cuda\" if torch.cuda.is_available() else \"cpu\")            \n",
    "        self.actor = actor\n",
    "        self.noise = noise\n",
    "        self.device = device\n",
    "        \n",
    "        self.wait = rend_wait\n",
    "        self.interval = rend_interval\n",
    "        self.frame = frame\n",
    "        \n",
    "    def reset(self):\n",
    "        self.env.close()\n",
    "        self.env.reset()\n",
    "        \n",
    "    def render(self, epoch):\n",
    "        if self.wait >= 0 and epoch < self.wait:\n",
    "            return\n",
    "        if self.interval >= 0 and epoch % self.interval == 0:\n",
    "            rend = self.env.render(\"rgb_array\")\n",
    "            if self.frame is not None:\n",
    "                self.frame.append(self.env.render(\"rgb_array\"))\n",
    "        \n",
    "    def episode(self, epoch):\n",
    "        self.obs = self.env.reset()\n",
    "        self.render(epoch)\n",
    "            \n",
    "        while True:\n",
    "            with torch.no_grad():\n",
    "                act_v = self.actor(torch.FloatTensor(self.obs).to(self.device)).cpu().numpy()\n",
    "                act_v += self.noise.get_noise()\n",
    "                if self.env.action_space.shape:\n",
    "                    act_v = act_v.clip(self.env.action_space.low, self.env.action_space.high)\n",
    "                act = self.actor.get_action(act_v)\n",
    "\n",
    "            next_obs, rew, done, etc = self.env.step(act)\n",
    "            self.render(epoch)\n",
    "\n",
    "            obs = self.obs\n",
    "            self.obs = next_obs\n",
    "\n",
    "            yield obs, act_v, act, next_obs, rew, done, etc\n",
    "            if done:\n",
    "                break"
   ]
  },
  {
   "cell_type": "markdown",
   "metadata": {},
   "source": [
    "# NoiseMaker"
   ]
  },
  {
   "cell_type": "code",
   "execution_count": 47,
   "metadata": {},
   "outputs": [],
   "source": [
    "import numpy as np\n",
    "import math\n",
    "\n",
    "class NoiseMaker():\n",
    "    def __init__(self, action_size, n_type = None, param = None, decay = False):\n",
    "        self.action_size = action_size\n",
    "        self.state = np.zeros(action_size, dtype=np.float32)\n",
    "        self.count = 0\n",
    "        self.decay = decay\n",
    "        if n_type is None:\n",
    "            n_type = \"normal\"\n",
    "        self.type = n_type\n",
    "        \n",
    "        if param is None:\n",
    "            self.param = {\n",
    "                \"start\": 0.9,\n",
    "                \"end\":0.02,\n",
    "                \"decay\": 2000\n",
    "            }\n",
    "            if n_type ==\"ou\":\n",
    "                self.param[\"ou_mu\"] = 0.0\n",
    "                self.param[\"ou_th\"] = 0.15\n",
    "                self.param[\"ou_sig\"] = 0.2\n",
    "        else:\n",
    "            self.param = param\n",
    "            \n",
    "    def get_noise(self):\n",
    "        eps = self.param[\"end\"] + (self.param[\"start\"] - self.param[\"end\"]) \\\n",
    "                * math.exp(-1*self.count/ self.param[\"decay\"])\n",
    "        \n",
    "        noise = np.random.normal(size=self.action_size)\n",
    "        if self.type == \"ou\":\n",
    "            self.state += self.param[\"ou_th\"] * (self.param[\"ou_mu\"] - self.state) \\\n",
    "                        + self.param[\"ou_sig\"] * noise\n",
    "            noise = self.state\n",
    "        if not self.decay:\n",
    "            eps = 1\n",
    "        self.count += 1\n",
    "            \n",
    "        return noise * eps"
   ]
  },
  {
   "cell_type": "markdown",
   "metadata": {},
   "source": [
    "# Box2d Install"
   ]
  },
  {
   "cell_type": "code",
   "execution_count": null,
   "metadata": {},
   "outputs": [],
   "source": [
    "!apt-get install swig\n",
    "!pip3 install box2d box2d-kengz"
   ]
  },
  {
   "cell_type": "markdown",
   "metadata": {},
   "source": [
    "# GDrive Save"
   ]
  },
  {
   "cell_type": "code",
   "execution_count": null,
   "metadata": {},
   "outputs": [],
   "source": [
    "from google.colab import drive \n",
    "drive.mount('/content/gdrive/')\n",
    "\n",
    "import pickle\n",
    "with open('/content/gdrive/My Drive/noise','rb') as f:\n",
    "    noise = pickle.load(f)"
   ]
  }
 ],
 "metadata": {
  "colab": {
   "authorship_tag": "ABX9TyMIWdQepdACt/ka7y8/Tf8s",
   "collapsed_sections": [],
   "include_colab_link": true,
   "name": "GymDisplay.ipynb",
   "provenance": []
  },
  "kernelspec": {
   "display_name": "Python 3",
   "language": "python",
   "name": "python3"
  },
  "language_info": {
   "codemirror_mode": {
    "name": "ipython",
    "version": 3
   },
   "file_extension": ".py",
   "mimetype": "text/x-python",
   "name": "python",
   "nbconvert_exporter": "python",
   "pygments_lexer": "ipython3",
   "version": "3.6.5"
  }
 },
 "nbformat": 4,
 "nbformat_minor": 1
}
